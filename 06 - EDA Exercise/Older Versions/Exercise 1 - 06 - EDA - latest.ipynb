{
 "cells": [
  {
   "cell_type": "markdown",
   "metadata": {},
   "source": [
    "# Exercise: EDA\n",
    "\n",
    "This exercise is a continuation of the exploratory data analysis of the Citibike Trip Histories dataset. The first section shows code to prepare the data, followed by a section of the initial analysis. Your task is complete the EDA of the Citibike dataset. The instructions are stated in the last section of this notebook.\n",
    "\n",
    "**IMPORTANT:** Copy this notebook and make changes in that copy. Do not push changes to this notebook."
   ]
  },
  {
   "cell_type": "code",
   "execution_count": 1,
   "metadata": {},
   "outputs": [
    {
     "name": "stdout",
     "output_type": "stream",
     "text": [
      "Populating the interactive namespace from numpy and matplotlib\n"
     ]
    }
   ],
   "source": [
    "import os\n",
    "import math\n",
    "import pandas as pd\n",
    "import numpy as np\n",
    "import matplotlib.pyplot as plt\n",
    "import seaborn as sns\n",
    "\n",
    "from scipy.stats import zscore\n",
    "\n",
    "%pylab inline"
   ]
  },
  {
   "cell_type": "markdown",
   "metadata": {},
   "source": [
    "## Data - CitiBike Trip Histories\n",
    "\n",
    "CitiBike provides the data of the bike share through this website: https://www.citibikenyc.com/system-data\n",
    "\n",
    "For this exercise, we'll be using their trip history data which may be found [here](https://s3.amazonaws.com/tripdata/index.html). "
   ]
  },
  {
   "cell_type": "code",
   "execution_count": 2,
   "metadata": {},
   "outputs": [
    {
     "data": {
      "text/html": [
       "<div>\n",
       "<style scoped>\n",
       "    .dataframe tbody tr th:only-of-type {\n",
       "        vertical-align: middle;\n",
       "    }\n",
       "\n",
       "    .dataframe tbody tr th {\n",
       "        vertical-align: top;\n",
       "    }\n",
       "\n",
       "    .dataframe thead th {\n",
       "        text-align: right;\n",
       "    }\n",
       "</style>\n",
       "<table border=\"1\" class=\"dataframe\">\n",
       "  <thead>\n",
       "    <tr style=\"text-align: right;\">\n",
       "      <th></th>\n",
       "      <th>tripduration</th>\n",
       "      <th>starttime</th>\n",
       "      <th>stoptime</th>\n",
       "      <th>start station id</th>\n",
       "      <th>start station name</th>\n",
       "      <th>start station latitude</th>\n",
       "      <th>start station longitude</th>\n",
       "      <th>end station id</th>\n",
       "      <th>end station name</th>\n",
       "      <th>end station latitude</th>\n",
       "      <th>end station longitude</th>\n",
       "      <th>bikeid</th>\n",
       "      <th>usertype</th>\n",
       "      <th>birth year</th>\n",
       "      <th>gender</th>\n",
       "    </tr>\n",
       "  </thead>\n",
       "  <tbody>\n",
       "    <tr>\n",
       "      <th>0</th>\n",
       "      <td>304</td>\n",
       "      <td>2021-02-01 00:04:23.0780</td>\n",
       "      <td>2021-02-01 00:09:27.7920</td>\n",
       "      <td>3175</td>\n",
       "      <td>W 70 St &amp; Amsterdam Ave</td>\n",
       "      <td>40.777480</td>\n",
       "      <td>-73.982886</td>\n",
       "      <td>4045</td>\n",
       "      <td>West End Ave &amp; W 60 St</td>\n",
       "      <td>40.772370</td>\n",
       "      <td>-73.990050</td>\n",
       "      <td>27451</td>\n",
       "      <td>Subscriber</td>\n",
       "      <td>1996</td>\n",
       "      <td>2</td>\n",
       "    </tr>\n",
       "    <tr>\n",
       "      <th>1</th>\n",
       "      <td>370</td>\n",
       "      <td>2021-02-01 00:07:08.8080</td>\n",
       "      <td>2021-02-01 00:13:19.4670</td>\n",
       "      <td>3154</td>\n",
       "      <td>E 77 St &amp; 3 Ave</td>\n",
       "      <td>40.773142</td>\n",
       "      <td>-73.958562</td>\n",
       "      <td>3725</td>\n",
       "      <td>2 Ave &amp; E 72 St</td>\n",
       "      <td>40.768762</td>\n",
       "      <td>-73.958408</td>\n",
       "      <td>35000</td>\n",
       "      <td>Subscriber</td>\n",
       "      <td>1991</td>\n",
       "      <td>1</td>\n",
       "    </tr>\n",
       "    <tr>\n",
       "      <th>2</th>\n",
       "      <td>635</td>\n",
       "      <td>2021-02-01 00:07:55.9390</td>\n",
       "      <td>2021-02-01 00:18:31.0390</td>\n",
       "      <td>502</td>\n",
       "      <td>Henry St &amp; Grand St</td>\n",
       "      <td>40.714211</td>\n",
       "      <td>-73.981095</td>\n",
       "      <td>411</td>\n",
       "      <td>E 6 St &amp; Avenue D</td>\n",
       "      <td>40.722281</td>\n",
       "      <td>-73.976687</td>\n",
       "      <td>49319</td>\n",
       "      <td>Subscriber</td>\n",
       "      <td>1980</td>\n",
       "      <td>2</td>\n",
       "    </tr>\n",
       "    <tr>\n",
       "      <th>3</th>\n",
       "      <td>758</td>\n",
       "      <td>2021-02-01 00:08:42.0960</td>\n",
       "      <td>2021-02-01 00:21:20.7820</td>\n",
       "      <td>3136</td>\n",
       "      <td>5 Ave &amp; E 63 St</td>\n",
       "      <td>40.766368</td>\n",
       "      <td>-73.971518</td>\n",
       "      <td>3284</td>\n",
       "      <td>E 88 St &amp; Park Ave</td>\n",
       "      <td>40.781411</td>\n",
       "      <td>-73.955959</td>\n",
       "      <td>48091</td>\n",
       "      <td>Customer</td>\n",
       "      <td>1969</td>\n",
       "      <td>0</td>\n",
       "    </tr>\n",
       "    <tr>\n",
       "      <th>4</th>\n",
       "      <td>522</td>\n",
       "      <td>2021-02-01 00:09:32.6820</td>\n",
       "      <td>2021-02-01 00:18:15.4100</td>\n",
       "      <td>505</td>\n",
       "      <td>6 Ave &amp; W 33 St</td>\n",
       "      <td>40.749013</td>\n",
       "      <td>-73.988484</td>\n",
       "      <td>3687</td>\n",
       "      <td>E 33 St &amp; 1 Ave</td>\n",
       "      <td>40.743227</td>\n",
       "      <td>-73.974498</td>\n",
       "      <td>48596</td>\n",
       "      <td>Subscriber</td>\n",
       "      <td>1988</td>\n",
       "      <td>1</td>\n",
       "    </tr>\n",
       "  </tbody>\n",
       "</table>\n",
       "</div>"
      ],
      "text/plain": [
       "   tripduration                 starttime                  stoptime  \\\n",
       "0           304  2021-02-01 00:04:23.0780  2021-02-01 00:09:27.7920   \n",
       "1           370  2021-02-01 00:07:08.8080  2021-02-01 00:13:19.4670   \n",
       "2           635  2021-02-01 00:07:55.9390  2021-02-01 00:18:31.0390   \n",
       "3           758  2021-02-01 00:08:42.0960  2021-02-01 00:21:20.7820   \n",
       "4           522  2021-02-01 00:09:32.6820  2021-02-01 00:18:15.4100   \n",
       "\n",
       "   start station id       start station name  start station latitude  \\\n",
       "0              3175  W 70 St & Amsterdam Ave               40.777480   \n",
       "1              3154          E 77 St & 3 Ave               40.773142   \n",
       "2               502      Henry St & Grand St               40.714211   \n",
       "3              3136          5 Ave & E 63 St               40.766368   \n",
       "4               505          6 Ave & W 33 St               40.749013   \n",
       "\n",
       "   start station longitude  end station id        end station name  \\\n",
       "0               -73.982886            4045  West End Ave & W 60 St   \n",
       "1               -73.958562            3725         2 Ave & E 72 St   \n",
       "2               -73.981095             411       E 6 St & Avenue D   \n",
       "3               -73.971518            3284      E 88 St & Park Ave   \n",
       "4               -73.988484            3687         E 33 St & 1 Ave   \n",
       "\n",
       "   end station latitude  end station longitude  bikeid    usertype  \\\n",
       "0             40.772370             -73.990050   27451  Subscriber   \n",
       "1             40.768762             -73.958408   35000  Subscriber   \n",
       "2             40.722281             -73.976687   49319  Subscriber   \n",
       "3             40.781411             -73.955959   48091    Customer   \n",
       "4             40.743227             -73.974498   48596  Subscriber   \n",
       "\n",
       "   birth year  gender  \n",
       "0        1996       2  \n",
       "1        1991       1  \n",
       "2        1980       2  \n",
       "3        1969       0  \n",
       "4        1988       1  "
      ]
     },
     "execution_count": 2,
     "metadata": {},
     "output_type": "execute_result"
    }
   ],
   "source": [
    "\n",
    "data = pd.read_csv('202102-citibike-tripdata.csv')\n",
    "data.head()"
   ]
  },
  {
   "cell_type": "markdown",
   "metadata": {},
   "source": [
    "## Feature Extraction"
   ]
  },
  {
   "cell_type": "code",
   "execution_count": 3,
   "metadata": {},
   "outputs": [],
   "source": [
    "data['starttime'] = pd.to_datetime(data['starttime'])\n",
    "data['stoptime'] = pd.to_datetime(data['stoptime'])\n",
    "\n",
    "data['dayofweek'] = data['starttime'].dt.dayofweek\n",
    "data['hourofday'] = data['starttime'].dt.hour\n",
    "data['year'] = data['starttime'].dt.year"
   ]
  },
  {
   "cell_type": "markdown",
   "metadata": {},
   "source": [
    "## Feature Transformation"
   ]
  },
  {
   "cell_type": "code",
   "execution_count": 4,
   "metadata": {},
   "outputs": [],
   "source": [
    "data['duration_min'] = data['tripduration']/60"
   ]
  },
  {
   "cell_type": "markdown",
   "metadata": {},
   "source": [
    "## Feature Generation"
   ]
  },
  {
   "cell_type": "code",
   "execution_count": 5,
   "metadata": {},
   "outputs": [
    {
     "data": {
      "text/html": [
       "<div>\n",
       "<style scoped>\n",
       "    .dataframe tbody tr th:only-of-type {\n",
       "        vertical-align: middle;\n",
       "    }\n",
       "\n",
       "    .dataframe tbody tr th {\n",
       "        vertical-align: top;\n",
       "    }\n",
       "\n",
       "    .dataframe thead th {\n",
       "        text-align: right;\n",
       "    }\n",
       "</style>\n",
       "<table border=\"1\" class=\"dataframe\">\n",
       "  <thead>\n",
       "    <tr style=\"text-align: right;\">\n",
       "      <th></th>\n",
       "      <th>tripduration</th>\n",
       "      <th>starttime</th>\n",
       "      <th>stoptime</th>\n",
       "      <th>start station id</th>\n",
       "      <th>start station name</th>\n",
       "      <th>start station latitude</th>\n",
       "      <th>start station longitude</th>\n",
       "      <th>end station id</th>\n",
       "      <th>end station name</th>\n",
       "      <th>end station latitude</th>\n",
       "      <th>end station longitude</th>\n",
       "      <th>bikeid</th>\n",
       "      <th>usertype</th>\n",
       "      <th>birth year</th>\n",
       "      <th>gender</th>\n",
       "      <th>dayofweek</th>\n",
       "      <th>hourofday</th>\n",
       "      <th>year</th>\n",
       "      <th>duration_min</th>\n",
       "      <th>age</th>\n",
       "    </tr>\n",
       "  </thead>\n",
       "  <tbody>\n",
       "    <tr>\n",
       "      <th>0</th>\n",
       "      <td>304</td>\n",
       "      <td>2021-02-01 00:04:23.078</td>\n",
       "      <td>2021-02-01 00:09:27.792</td>\n",
       "      <td>3175</td>\n",
       "      <td>W 70 St &amp; Amsterdam Ave</td>\n",
       "      <td>40.777480</td>\n",
       "      <td>-73.982886</td>\n",
       "      <td>4045</td>\n",
       "      <td>West End Ave &amp; W 60 St</td>\n",
       "      <td>40.772370</td>\n",
       "      <td>-73.990050</td>\n",
       "      <td>27451</td>\n",
       "      <td>Subscriber</td>\n",
       "      <td>1996</td>\n",
       "      <td>2</td>\n",
       "      <td>0</td>\n",
       "      <td>0</td>\n",
       "      <td>2021</td>\n",
       "      <td>5.066667</td>\n",
       "      <td>25</td>\n",
       "    </tr>\n",
       "    <tr>\n",
       "      <th>1</th>\n",
       "      <td>370</td>\n",
       "      <td>2021-02-01 00:07:08.808</td>\n",
       "      <td>2021-02-01 00:13:19.467</td>\n",
       "      <td>3154</td>\n",
       "      <td>E 77 St &amp; 3 Ave</td>\n",
       "      <td>40.773142</td>\n",
       "      <td>-73.958562</td>\n",
       "      <td>3725</td>\n",
       "      <td>2 Ave &amp; E 72 St</td>\n",
       "      <td>40.768762</td>\n",
       "      <td>-73.958408</td>\n",
       "      <td>35000</td>\n",
       "      <td>Subscriber</td>\n",
       "      <td>1991</td>\n",
       "      <td>1</td>\n",
       "      <td>0</td>\n",
       "      <td>0</td>\n",
       "      <td>2021</td>\n",
       "      <td>6.166667</td>\n",
       "      <td>30</td>\n",
       "    </tr>\n",
       "    <tr>\n",
       "      <th>2</th>\n",
       "      <td>635</td>\n",
       "      <td>2021-02-01 00:07:55.939</td>\n",
       "      <td>2021-02-01 00:18:31.039</td>\n",
       "      <td>502</td>\n",
       "      <td>Henry St &amp; Grand St</td>\n",
       "      <td>40.714211</td>\n",
       "      <td>-73.981095</td>\n",
       "      <td>411</td>\n",
       "      <td>E 6 St &amp; Avenue D</td>\n",
       "      <td>40.722281</td>\n",
       "      <td>-73.976687</td>\n",
       "      <td>49319</td>\n",
       "      <td>Subscriber</td>\n",
       "      <td>1980</td>\n",
       "      <td>2</td>\n",
       "      <td>0</td>\n",
       "      <td>0</td>\n",
       "      <td>2021</td>\n",
       "      <td>10.583333</td>\n",
       "      <td>41</td>\n",
       "    </tr>\n",
       "    <tr>\n",
       "      <th>3</th>\n",
       "      <td>758</td>\n",
       "      <td>2021-02-01 00:08:42.096</td>\n",
       "      <td>2021-02-01 00:21:20.782</td>\n",
       "      <td>3136</td>\n",
       "      <td>5 Ave &amp; E 63 St</td>\n",
       "      <td>40.766368</td>\n",
       "      <td>-73.971518</td>\n",
       "      <td>3284</td>\n",
       "      <td>E 88 St &amp; Park Ave</td>\n",
       "      <td>40.781411</td>\n",
       "      <td>-73.955959</td>\n",
       "      <td>48091</td>\n",
       "      <td>Customer</td>\n",
       "      <td>1969</td>\n",
       "      <td>0</td>\n",
       "      <td>0</td>\n",
       "      <td>0</td>\n",
       "      <td>2021</td>\n",
       "      <td>12.633333</td>\n",
       "      <td>52</td>\n",
       "    </tr>\n",
       "    <tr>\n",
       "      <th>4</th>\n",
       "      <td>522</td>\n",
       "      <td>2021-02-01 00:09:32.682</td>\n",
       "      <td>2021-02-01 00:18:15.410</td>\n",
       "      <td>505</td>\n",
       "      <td>6 Ave &amp; W 33 St</td>\n",
       "      <td>40.749013</td>\n",
       "      <td>-73.988484</td>\n",
       "      <td>3687</td>\n",
       "      <td>E 33 St &amp; 1 Ave</td>\n",
       "      <td>40.743227</td>\n",
       "      <td>-73.974498</td>\n",
       "      <td>48596</td>\n",
       "      <td>Subscriber</td>\n",
       "      <td>1988</td>\n",
       "      <td>1</td>\n",
       "      <td>0</td>\n",
       "      <td>0</td>\n",
       "      <td>2021</td>\n",
       "      <td>8.700000</td>\n",
       "      <td>33</td>\n",
       "    </tr>\n",
       "  </tbody>\n",
       "</table>\n",
       "</div>"
      ],
      "text/plain": [
       "   tripduration               starttime                stoptime  \\\n",
       "0           304 2021-02-01 00:04:23.078 2021-02-01 00:09:27.792   \n",
       "1           370 2021-02-01 00:07:08.808 2021-02-01 00:13:19.467   \n",
       "2           635 2021-02-01 00:07:55.939 2021-02-01 00:18:31.039   \n",
       "3           758 2021-02-01 00:08:42.096 2021-02-01 00:21:20.782   \n",
       "4           522 2021-02-01 00:09:32.682 2021-02-01 00:18:15.410   \n",
       "\n",
       "   start station id       start station name  start station latitude  \\\n",
       "0              3175  W 70 St & Amsterdam Ave               40.777480   \n",
       "1              3154          E 77 St & 3 Ave               40.773142   \n",
       "2               502      Henry St & Grand St               40.714211   \n",
       "3              3136          5 Ave & E 63 St               40.766368   \n",
       "4               505          6 Ave & W 33 St               40.749013   \n",
       "\n",
       "   start station longitude  end station id        end station name  \\\n",
       "0               -73.982886            4045  West End Ave & W 60 St   \n",
       "1               -73.958562            3725         2 Ave & E 72 St   \n",
       "2               -73.981095             411       E 6 St & Avenue D   \n",
       "3               -73.971518            3284      E 88 St & Park Ave   \n",
       "4               -73.988484            3687         E 33 St & 1 Ave   \n",
       "\n",
       "   end station latitude  end station longitude  bikeid    usertype  \\\n",
       "0             40.772370             -73.990050   27451  Subscriber   \n",
       "1             40.768762             -73.958408   35000  Subscriber   \n",
       "2             40.722281             -73.976687   49319  Subscriber   \n",
       "3             40.781411             -73.955959   48091    Customer   \n",
       "4             40.743227             -73.974498   48596  Subscriber   \n",
       "\n",
       "   birth year  gender  dayofweek  hourofday  year  duration_min  age  \n",
       "0        1996       2          0          0  2021      5.066667   25  \n",
       "1        1991       1          0          0  2021      6.166667   30  \n",
       "2        1980       2          0          0  2021     10.583333   41  \n",
       "3        1969       0          0          0  2021     12.633333   52  \n",
       "4        1988       1          0          0  2021      8.700000   33  "
      ]
     },
     "execution_count": 5,
     "metadata": {},
     "output_type": "execute_result"
    }
   ],
   "source": [
    "data['age'] = data['starttime'].dt.year - data['birth year']\n",
    "data.head()"
   ]
  },
  {
   "cell_type": "markdown",
   "metadata": {},
   "source": [
    "#### Distance\n",
    "\n",
    "Another feature we can generate from the data is distance. Although the provided values are in longitude and latitudes and they're measured in degrees, the distance calculated from these points would also be in degrees (and not meters). \n",
    "\n",
    "There's actually a library that specifically handles geospatial data called `geopy` ([Link](https://geopy.readthedocs.io/en/stable/#module-geopy.distance)). For simplicity sake in this tutorial, we use an existing function that calculates the geodesic distance using the Haversine formula given the starting and ending longitude and latitudes: `calculate_distance(lat1, lon1, lat2, lon2)`\n",
    "\n",
    "Credits to [Wayne Dyck](https://gist.github.com/rochacbruno/2883505) for the function."
   ]
  },
  {
   "cell_type": "code",
   "execution_count": 6,
   "metadata": {},
   "outputs": [],
   "source": [
    "def calculate_distance(lat1, lon1, lat2, lon2):\n",
    "    \"\"\"\n",
    "    Calculates the distance provided a pair of longitudes and latitudes\n",
    "    using the Haversine formula\n",
    "    \n",
    "    Returns the distance in kilometers.\n",
    "    \"\"\"\n",
    "    radius = 6371 # km\n",
    "\n",
    "    dlat = math.radians(lat2-lat1)\n",
    "    dlon = math.radians(lon2-lon1)\n",
    "    a = math.sin(dlat/2) * math.sin(dlat/2) + math.cos(math.radians(lat1)) \\\n",
    "        * math.cos(math.radians(lat2)) * math.sin(dlon/2) * math.sin(dlon/2)\n",
    "    c = 2 * math.atan2(math.sqrt(a), math.sqrt(1-a))\n",
    "    d = radius * c\n",
    "\n",
    "    return d"
   ]
  },
  {
   "cell_type": "code",
   "execution_count": 7,
   "metadata": {},
   "outputs": [],
   "source": [
    "data['distance_km'] = data.apply(lambda x: calculate_distance(x['start station latitude'], x['start station longitude'],\n",
    "                                        x['end station latitude'], x['end station longitude']), axis=1)"
   ]
  },
  {
   "cell_type": "markdown",
   "metadata": {},
   "source": [
    "# Exploratory Data Analysis\n",
    "\n",
    "We will do the following:\n",
    "1. Examine the size and structure of the data\n",
    "2. Examine each field individually\n",
    "3. Examine relationships/correlations\n",
    "4. Identify anomalies/outliers"
   ]
  },
  {
   "cell_type": "markdown",
   "metadata": {},
   "source": [
    "## 1. Size and structure of the data"
   ]
  },
  {
   "cell_type": "code",
   "execution_count": 8,
   "metadata": {},
   "outputs": [
    {
     "data": {
      "text/plain": [
       "(634631, 21)"
      ]
     },
     "execution_count": 8,
     "metadata": {},
     "output_type": "execute_result"
    }
   ],
   "source": [
    "data.shape"
   ]
  },
  {
   "cell_type": "markdown",
   "metadata": {},
   "source": [
    "After feater transformations, the dataset now has 634,631 observations with 21 variables."
   ]
  },
  {
   "cell_type": "code",
   "execution_count": 9,
   "metadata": {},
   "outputs": [
    {
     "name": "stdout",
     "output_type": "stream",
     "text": [
      "<class 'pandas.core.frame.DataFrame'>\n",
      "RangeIndex: 634631 entries, 0 to 634630\n",
      "Data columns (total 21 columns):\n",
      " #   Column                   Non-Null Count   Dtype         \n",
      "---  ------                   --------------   -----         \n",
      " 0   tripduration             634631 non-null  int64         \n",
      " 1   starttime                634631 non-null  datetime64[ns]\n",
      " 2   stoptime                 634631 non-null  datetime64[ns]\n",
      " 3   start station id         634631 non-null  int64         \n",
      " 4   start station name       634631 non-null  object        \n",
      " 5   start station latitude   634631 non-null  float64       \n",
      " 6   start station longitude  634631 non-null  float64       \n",
      " 7   end station id           634631 non-null  int64         \n",
      " 8   end station name         634631 non-null  object        \n",
      " 9   end station latitude     634631 non-null  float64       \n",
      " 10  end station longitude    634631 non-null  float64       \n",
      " 11  bikeid                   634631 non-null  int64         \n",
      " 12  usertype                 634631 non-null  object        \n",
      " 13  birth year               634631 non-null  int64         \n",
      " 14  gender                   634631 non-null  int64         \n",
      " 15  dayofweek                634631 non-null  int64         \n",
      " 16  hourofday                634631 non-null  int64         \n",
      " 17  year                     634631 non-null  int64         \n",
      " 18  duration_min             634631 non-null  float64       \n",
      " 19  age                      634631 non-null  int64         \n",
      " 20  distance_km              634631 non-null  float64       \n",
      "dtypes: datetime64[ns](2), float64(6), int64(10), object(3)\n",
      "memory usage: 101.7+ MB\n"
     ]
    }
   ],
   "source": [
    "data.info()"
   ]
  },
  {
   "cell_type": "markdown",
   "metadata": {},
   "source": [
    "The dataset has a variety of datatypes: integer and float values, date and time, and strings. There are no variables with null/missing values."
   ]
  },
  {
   "cell_type": "code",
   "execution_count": 10,
   "metadata": {},
   "outputs": [
    {
     "data": {
      "text/html": [
       "<div>\n",
       "<style scoped>\n",
       "    .dataframe tbody tr th:only-of-type {\n",
       "        vertical-align: middle;\n",
       "    }\n",
       "\n",
       "    .dataframe tbody tr th {\n",
       "        vertical-align: top;\n",
       "    }\n",
       "\n",
       "    .dataframe thead th {\n",
       "        text-align: right;\n",
       "    }\n",
       "</style>\n",
       "<table border=\"1\" class=\"dataframe\">\n",
       "  <thead>\n",
       "    <tr style=\"text-align: right;\">\n",
       "      <th></th>\n",
       "      <th>tripduration</th>\n",
       "      <th>start station id</th>\n",
       "      <th>start station latitude</th>\n",
       "      <th>start station longitude</th>\n",
       "      <th>end station id</th>\n",
       "      <th>end station latitude</th>\n",
       "      <th>end station longitude</th>\n",
       "      <th>bikeid</th>\n",
       "      <th>birth year</th>\n",
       "      <th>gender</th>\n",
       "      <th>dayofweek</th>\n",
       "      <th>hourofday</th>\n",
       "      <th>year</th>\n",
       "      <th>duration_min</th>\n",
       "      <th>age</th>\n",
       "      <th>distance_km</th>\n",
       "    </tr>\n",
       "  </thead>\n",
       "  <tbody>\n",
       "    <tr>\n",
       "      <th>count</th>\n",
       "      <td>6.346310e+05</td>\n",
       "      <td>634631.000000</td>\n",
       "      <td>634631.000000</td>\n",
       "      <td>634631.000000</td>\n",
       "      <td>634631.000000</td>\n",
       "      <td>634631.000000</td>\n",
       "      <td>634631.000000</td>\n",
       "      <td>634631.000000</td>\n",
       "      <td>634631.000000</td>\n",
       "      <td>634631.000000</td>\n",
       "      <td>634631.000000</td>\n",
       "      <td>634631.000000</td>\n",
       "      <td>634631.0</td>\n",
       "      <td>634631.000000</td>\n",
       "      <td>634631.000000</td>\n",
       "      <td>634631.000000</td>\n",
       "    </tr>\n",
       "    <tr>\n",
       "      <th>mean</th>\n",
       "      <td>1.044040e+03</td>\n",
       "      <td>2113.291434</td>\n",
       "      <td>40.741955</td>\n",
       "      <td>-73.976605</td>\n",
       "      <td>2113.355662</td>\n",
       "      <td>40.741686</td>\n",
       "      <td>-73.976779</td>\n",
       "      <td>41295.079259</td>\n",
       "      <td>1971.745553</td>\n",
       "      <td>0.342484</td>\n",
       "      <td>3.147275</td>\n",
       "      <td>14.011964</td>\n",
       "      <td>2021.0</td>\n",
       "      <td>17.400660</td>\n",
       "      <td>49.254447</td>\n",
       "      <td>1.840111</td>\n",
       "    </tr>\n",
       "    <tr>\n",
       "      <th>std</th>\n",
       "      <td>1.206238e+04</td>\n",
       "      <td>1576.082952</td>\n",
       "      <td>0.034753</td>\n",
       "      <td>0.022764</td>\n",
       "      <td>1576.501895</td>\n",
       "      <td>0.034642</td>\n",
       "      <td>0.022868</td>\n",
       "      <td>7149.176733</td>\n",
       "      <td>8.307802</td>\n",
       "      <td>0.608901</td>\n",
       "      <td>1.865895</td>\n",
       "      <td>4.586800</td>\n",
       "      <td>0.0</td>\n",
       "      <td>201.039591</td>\n",
       "      <td>8.307802</td>\n",
       "      <td>1.562775</td>\n",
       "    </tr>\n",
       "    <tr>\n",
       "      <th>min</th>\n",
       "      <td>6.100000e+01</td>\n",
       "      <td>72.000000</td>\n",
       "      <td>40.644512</td>\n",
       "      <td>-74.023087</td>\n",
       "      <td>72.000000</td>\n",
       "      <td>40.644512</td>\n",
       "      <td>-74.043991</td>\n",
       "      <td>14534.000000</td>\n",
       "      <td>1885.000000</td>\n",
       "      <td>0.000000</td>\n",
       "      <td>0.000000</td>\n",
       "      <td>0.000000</td>\n",
       "      <td>2021.0</td>\n",
       "      <td>1.016667</td>\n",
       "      <td>17.000000</td>\n",
       "      <td>0.000000</td>\n",
       "    </tr>\n",
       "    <tr>\n",
       "      <th>25%</th>\n",
       "      <td>3.450000e+02</td>\n",
       "      <td>438.000000</td>\n",
       "      <td>40.718822</td>\n",
       "      <td>-73.992573</td>\n",
       "      <td>437.000000</td>\n",
       "      <td>40.718822</td>\n",
       "      <td>-73.993012</td>\n",
       "      <td>36480.000000</td>\n",
       "      <td>1969.000000</td>\n",
       "      <td>0.000000</td>\n",
       "      <td>2.000000</td>\n",
       "      <td>11.000000</td>\n",
       "      <td>2021.0</td>\n",
       "      <td>5.750000</td>\n",
       "      <td>52.000000</td>\n",
       "      <td>0.786475</td>\n",
       "    </tr>\n",
       "    <tr>\n",
       "      <th>50%</th>\n",
       "      <td>5.930000e+02</td>\n",
       "      <td>3115.000000</td>\n",
       "      <td>40.741740</td>\n",
       "      <td>-73.981540</td>\n",
       "      <td>3115.000000</td>\n",
       "      <td>40.741459</td>\n",
       "      <td>-73.981687</td>\n",
       "      <td>42766.000000</td>\n",
       "      <td>1969.000000</td>\n",
       "      <td>0.000000</td>\n",
       "      <td>3.000000</td>\n",
       "      <td>15.000000</td>\n",
       "      <td>2021.0</td>\n",
       "      <td>9.883333</td>\n",
       "      <td>52.000000</td>\n",
       "      <td>1.396765</td>\n",
       "    </tr>\n",
       "    <tr>\n",
       "      <th>75%</th>\n",
       "      <td>1.036000e+03</td>\n",
       "      <td>3538.000000</td>\n",
       "      <td>40.764719</td>\n",
       "      <td>-73.961255</td>\n",
       "      <td>3537.000000</td>\n",
       "      <td>40.763954</td>\n",
       "      <td>-73.961199</td>\n",
       "      <td>47762.000000</td>\n",
       "      <td>1969.000000</td>\n",
       "      <td>1.000000</td>\n",
       "      <td>5.000000</td>\n",
       "      <td>17.000000</td>\n",
       "      <td>2021.0</td>\n",
       "      <td>17.266667</td>\n",
       "      <td>52.000000</td>\n",
       "      <td>2.411052</td>\n",
       "    </tr>\n",
       "    <tr>\n",
       "      <th>max</th>\n",
       "      <td>2.065242e+06</td>\n",
       "      <td>4419.000000</td>\n",
       "      <td>40.852252</td>\n",
       "      <td>-73.884308</td>\n",
       "      <td>4419.000000</td>\n",
       "      <td>40.852252</td>\n",
       "      <td>-73.884308</td>\n",
       "      <td>50133.000000</td>\n",
       "      <td>2004.000000</td>\n",
       "      <td>2.000000</td>\n",
       "      <td>6.000000</td>\n",
       "      <td>23.000000</td>\n",
       "      <td>2021.0</td>\n",
       "      <td>34420.700000</td>\n",
       "      <td>136.000000</td>\n",
       "      <td>17.937935</td>\n",
       "    </tr>\n",
       "  </tbody>\n",
       "</table>\n",
       "</div>"
      ],
      "text/plain": [
       "       tripduration  start station id  start station latitude  \\\n",
       "count  6.346310e+05     634631.000000           634631.000000   \n",
       "mean   1.044040e+03       2113.291434               40.741955   \n",
       "std    1.206238e+04       1576.082952                0.034753   \n",
       "min    6.100000e+01         72.000000               40.644512   \n",
       "25%    3.450000e+02        438.000000               40.718822   \n",
       "50%    5.930000e+02       3115.000000               40.741740   \n",
       "75%    1.036000e+03       3538.000000               40.764719   \n",
       "max    2.065242e+06       4419.000000               40.852252   \n",
       "\n",
       "       start station longitude  end station id  end station latitude  \\\n",
       "count            634631.000000   634631.000000         634631.000000   \n",
       "mean                -73.976605     2113.355662             40.741686   \n",
       "std                   0.022764     1576.501895              0.034642   \n",
       "min                 -74.023087       72.000000             40.644512   \n",
       "25%                 -73.992573      437.000000             40.718822   \n",
       "50%                 -73.981540     3115.000000             40.741459   \n",
       "75%                 -73.961255     3537.000000             40.763954   \n",
       "max                 -73.884308     4419.000000             40.852252   \n",
       "\n",
       "       end station longitude         bikeid     birth year         gender  \\\n",
       "count          634631.000000  634631.000000  634631.000000  634631.000000   \n",
       "mean              -73.976779   41295.079259    1971.745553       0.342484   \n",
       "std                 0.022868    7149.176733       8.307802       0.608901   \n",
       "min               -74.043991   14534.000000    1885.000000       0.000000   \n",
       "25%               -73.993012   36480.000000    1969.000000       0.000000   \n",
       "50%               -73.981687   42766.000000    1969.000000       0.000000   \n",
       "75%               -73.961199   47762.000000    1969.000000       1.000000   \n",
       "max               -73.884308   50133.000000    2004.000000       2.000000   \n",
       "\n",
       "           dayofweek      hourofday      year   duration_min            age  \\\n",
       "count  634631.000000  634631.000000  634631.0  634631.000000  634631.000000   \n",
       "mean        3.147275      14.011964    2021.0      17.400660      49.254447   \n",
       "std         1.865895       4.586800       0.0     201.039591       8.307802   \n",
       "min         0.000000       0.000000    2021.0       1.016667      17.000000   \n",
       "25%         2.000000      11.000000    2021.0       5.750000      52.000000   \n",
       "50%         3.000000      15.000000    2021.0       9.883333      52.000000   \n",
       "75%         5.000000      17.000000    2021.0      17.266667      52.000000   \n",
       "max         6.000000      23.000000    2021.0   34420.700000     136.000000   \n",
       "\n",
       "         distance_km  \n",
       "count  634631.000000  \n",
       "mean        1.840111  \n",
       "std         1.562775  \n",
       "min         0.000000  \n",
       "25%         0.786475  \n",
       "50%         1.396765  \n",
       "75%         2.411052  \n",
       "max        17.937935  "
      ]
     },
     "execution_count": 10,
     "metadata": {},
     "output_type": "execute_result"
    }
   ],
   "source": [
    "# Get descriptive statistics of quantitative variables\n",
    "data.describe()"
   ]
  },
  {
   "cell_type": "markdown",
   "metadata": {},
   "source": [
    "Although these variables are all quantitative, it doesn't really make sense to look at the statistics for unique IDs and spatial data like `start station id`, `start station latitude`, `start station longitude`, and `bikeid`, among others. Here, we will just focus on the values for `birth year`, `duration_min`, `age`, and `distance_km`.\n",
    "\n",
    "Few insights from the `data.describe()` function:\n",
    "\n",
    "1. The minimum `birth year` is 1885 which has a remarkably large difference from the 25th percentile value. Can this be anomalous data?\n",
    "2. There is a very large difference between the maximum and 75th percentile values of `duration_min` and `age`.\n",
    "3. Observations #1 & #2 indicate possible outliers in the data. "
   ]
  },
  {
   "cell_type": "code",
   "execution_count": 11,
   "metadata": {},
   "outputs": [
    {
     "data": {
      "text/html": [
       "<div>\n",
       "<style scoped>\n",
       "    .dataframe tbody tr th:only-of-type {\n",
       "        vertical-align: middle;\n",
       "    }\n",
       "\n",
       "    .dataframe tbody tr th {\n",
       "        vertical-align: top;\n",
       "    }\n",
       "\n",
       "    .dataframe thead th {\n",
       "        text-align: right;\n",
       "    }\n",
       "</style>\n",
       "<table border=\"1\" class=\"dataframe\">\n",
       "  <thead>\n",
       "    <tr style=\"text-align: right;\">\n",
       "      <th></th>\n",
       "      <th>start station name</th>\n",
       "      <th>end station name</th>\n",
       "      <th>usertype</th>\n",
       "    </tr>\n",
       "  </thead>\n",
       "  <tbody>\n",
       "    <tr>\n",
       "      <th>count</th>\n",
       "      <td>634631</td>\n",
       "      <td>634631</td>\n",
       "      <td>634631</td>\n",
       "    </tr>\n",
       "    <tr>\n",
       "      <th>unique</th>\n",
       "      <td>1274</td>\n",
       "      <td>1283</td>\n",
       "      <td>2</td>\n",
       "    </tr>\n",
       "    <tr>\n",
       "      <th>top</th>\n",
       "      <td>1 Ave &amp; E 68 St</td>\n",
       "      <td>1 Ave &amp; E 68 St</td>\n",
       "      <td>Customer</td>\n",
       "    </tr>\n",
       "    <tr>\n",
       "      <th>freq</th>\n",
       "      <td>4251</td>\n",
       "      <td>4226</td>\n",
       "      <td>468459</td>\n",
       "    </tr>\n",
       "  </tbody>\n",
       "</table>\n",
       "</div>"
      ],
      "text/plain": [
       "       start station name end station name  usertype\n",
       "count              634631           634631    634631\n",
       "unique               1274             1283         2\n",
       "top       1 Ave & E 68 St  1 Ave & E 68 St  Customer\n",
       "freq                 4251             4226    468459"
      ]
     },
     "execution_count": 11,
     "metadata": {},
     "output_type": "execute_result"
    }
   ],
   "source": [
    "data.describe(include=np.object)"
   ]
  },
  {
   "cell_type": "markdown",
   "metadata": {},
   "source": [
    "These are the descriptive stats for the categorical variables. "
   ]
  },
  {
   "cell_type": "markdown",
   "metadata": {},
   "source": [
    "## 2. Examining individual variables\n",
    "\n",
    "Now, we can start generating simple visualizations to help us better understand the values in each variable."
   ]
  },
  {
   "cell_type": "markdown",
   "metadata": {},
   "source": [
    "#### User type"
   ]
  },
  {
   "cell_type": "code",
   "execution_count": 12,
   "metadata": {},
   "outputs": [
    {
     "data": {
      "image/png": "[encoded data removed]",
      "text/plain": [
       "<Figure size 360x360 with 1 Axes>"
      ]
     },
     "metadata": {},
     "output_type": "display_data"
    }
   ],
   "source": [
    "sns.set_theme(style=\"whitegrid\")\n",
    "\n",
    "usertype_plot = sns.catplot(x=\"usertype\", kind=\"count\", order=[\"Customer\", \"Subscriber\"], data=data)"
   ]
  },
  {
   "cell_type": "markdown",
   "metadata": {},
   "source": [
    "There are more one-time users of CitiBike than there are subscribers."
   ]
  },
  {
   "cell_type": "markdown",
   "metadata": {},
   "source": [
    "#### Age"
   ]
  },
  {
   "cell_type": "code",
   "execution_count": 13,
   "metadata": {},
   "outputs": [
    {
     "data": {
      "text/plain": [
       "<seaborn.axisgrid.FacetGrid at 0x224321b97c0>"
      ]
     },
     "execution_count": 13,
     "metadata": {},
     "output_type": "execute_result"
    },
    {
     "data": {
      "image/png": "[encoded data removed]",
      "text/plain": [
       "<Figure size 360x360 with 1 Axes>"
      ]
     },
     "metadata": {},
     "output_type": "display_data"
    }
   ],
   "source": [
    "age_plot = sns.catplot(x=\"age\", kind=\"count\", data=data)\n",
    "age_plot.set(ylim=(0,7500)) # Limit the maximum y-axis value because of one outlier count for age 52"
   ]
  },
  {
   "cell_type": "code",
   "execution_count": 14,
   "metadata": {},
   "outputs": [
    {
     "data": {
      "text/plain": [
       "52     464712\n",
       "31       7312\n",
       "29       6327\n",
       "30       6135\n",
       "33       5758\n",
       "        ...  \n",
       "103         2\n",
       "93          2\n",
       "130         2\n",
       "88          2\n",
       "136         1\n",
       "Name: age, Length: 92, dtype: int64"
      ]
     },
     "execution_count": 14,
     "metadata": {},
     "output_type": "execute_result"
    }
   ],
   "source": [
    "data[\"age\"].value_counts()"
   ]
  },
  {
   "cell_type": "markdown",
   "metadata": {},
   "source": [
    "#### Starting Stations"
   ]
  },
  {
   "cell_type": "code",
   "execution_count": 15,
   "metadata": {},
   "outputs": [
    {
     "data": {
      "text/html": [
       "<div>\n",
       "<style scoped>\n",
       "    .dataframe tbody tr th:only-of-type {\n",
       "        vertical-align: middle;\n",
       "    }\n",
       "\n",
       "    .dataframe tbody tr th {\n",
       "        vertical-align: top;\n",
       "    }\n",
       "\n",
       "    .dataframe thead th {\n",
       "        text-align: right;\n",
       "    }\n",
       "</style>\n",
       "<table border=\"1\" class=\"dataframe\">\n",
       "  <thead>\n",
       "    <tr style=\"text-align: right;\">\n",
       "      <th></th>\n",
       "      <th>Station name</th>\n",
       "      <th>counts</th>\n",
       "    </tr>\n",
       "  </thead>\n",
       "  <tbody>\n",
       "    <tr>\n",
       "      <th>0</th>\n",
       "      <td>1 Ave &amp; E 68 St</td>\n",
       "      <td>4251</td>\n",
       "    </tr>\n",
       "    <tr>\n",
       "      <th>1</th>\n",
       "      <td>W 21 St &amp; 6 Ave</td>\n",
       "      <td>3762</td>\n",
       "    </tr>\n",
       "    <tr>\n",
       "      <th>2</th>\n",
       "      <td>E 17 St &amp; Broadway</td>\n",
       "      <td>3230</td>\n",
       "    </tr>\n",
       "    <tr>\n",
       "      <th>3</th>\n",
       "      <td>W 33 St &amp; 7 Ave</td>\n",
       "      <td>3213</td>\n",
       "    </tr>\n",
       "    <tr>\n",
       "      <th>4</th>\n",
       "      <td>E 13 St &amp; Avenue A</td>\n",
       "      <td>3044</td>\n",
       "    </tr>\n",
       "    <tr>\n",
       "      <th>5</th>\n",
       "      <td>E 33 St &amp; 1 Ave</td>\n",
       "      <td>2970</td>\n",
       "    </tr>\n",
       "    <tr>\n",
       "      <th>6</th>\n",
       "      <td>Broadway &amp; W 60 St</td>\n",
       "      <td>2757</td>\n",
       "    </tr>\n",
       "    <tr>\n",
       "      <th>7</th>\n",
       "      <td>Grand St &amp; Elizabeth St</td>\n",
       "      <td>2700</td>\n",
       "    </tr>\n",
       "    <tr>\n",
       "      <th>8</th>\n",
       "      <td>Clinton St &amp; Grand St</td>\n",
       "      <td>2620</td>\n",
       "    </tr>\n",
       "    <tr>\n",
       "      <th>9</th>\n",
       "      <td>Pershing Square North</td>\n",
       "      <td>2606</td>\n",
       "    </tr>\n",
       "  </tbody>\n",
       "</table>\n",
       "</div>"
      ],
      "text/plain": [
       "              Station name  counts\n",
       "0          1 Ave & E 68 St    4251\n",
       "1          W 21 St & 6 Ave    3762\n",
       "2       E 17 St & Broadway    3230\n",
       "3          W 33 St & 7 Ave    3213\n",
       "4       E 13 St & Avenue A    3044\n",
       "5          E 33 St & 1 Ave    2970\n",
       "6       Broadway & W 60 St    2757\n",
       "7  Grand St & Elizabeth St    2700\n",
       "8    Clinton St & Grand St    2620\n",
       "9    Pershing Square North    2606"
      ]
     },
     "execution_count": 15,
     "metadata": {},
     "output_type": "execute_result"
    }
   ],
   "source": [
    "start_stations = data[\"start station name\"].value_counts().rename_axis('Station name').reset_index(name='counts')\n",
    "start_stations = start_stations.nlargest(10, 'counts')\n",
    "start_stations"
   ]
  },
  {
   "cell_type": "code",
   "execution_count": 16,
   "metadata": {},
   "outputs": [
    {
     "data": {
      "image/png": "[encoded data removed]",
      "text/plain": [
       "<Figure size 360x360 with 1 Axes>"
      ]
     },
     "metadata": {},
     "output_type": "display_data"
    }
   ],
   "source": [
    "start_station_plot = sns.catplot(y=\"Station name\", x=\"counts\", orient=\"h\", kind=\"bar\", data=start_stations)"
   ]
  },
  {
   "cell_type": "markdown",
   "metadata": {},
   "source": [
    "#### Ending stations"
   ]
  },
  {
   "cell_type": "code",
   "execution_count": 17,
   "metadata": {},
   "outputs": [
    {
     "data": {
      "text/html": [
       "<div>\n",
       "<style scoped>\n",
       "    .dataframe tbody tr th:only-of-type {\n",
       "        vertical-align: middle;\n",
       "    }\n",
       "\n",
       "    .dataframe tbody tr th {\n",
       "        vertical-align: top;\n",
       "    }\n",
       "\n",
       "    .dataframe thead th {\n",
       "        text-align: right;\n",
       "    }\n",
       "</style>\n",
       "<table border=\"1\" class=\"dataframe\">\n",
       "  <thead>\n",
       "    <tr style=\"text-align: right;\">\n",
       "      <th></th>\n",
       "      <th>Station name</th>\n",
       "      <th>counts</th>\n",
       "    </tr>\n",
       "  </thead>\n",
       "  <tbody>\n",
       "    <tr>\n",
       "      <th>0</th>\n",
       "      <td>1 Ave &amp; E 68 St</td>\n",
       "      <td>4226</td>\n",
       "    </tr>\n",
       "    <tr>\n",
       "      <th>1</th>\n",
       "      <td>W 21 St &amp; 6 Ave</td>\n",
       "      <td>3734</td>\n",
       "    </tr>\n",
       "    <tr>\n",
       "      <th>2</th>\n",
       "      <td>E 17 St &amp; Broadway</td>\n",
       "      <td>3481</td>\n",
       "    </tr>\n",
       "    <tr>\n",
       "      <th>3</th>\n",
       "      <td>W 33 St &amp; 7 Ave</td>\n",
       "      <td>3161</td>\n",
       "    </tr>\n",
       "    <tr>\n",
       "      <th>4</th>\n",
       "      <td>E 13 St &amp; Avenue A</td>\n",
       "      <td>3043</td>\n",
       "    </tr>\n",
       "    <tr>\n",
       "      <th>5</th>\n",
       "      <td>E 33 St &amp; 1 Ave</td>\n",
       "      <td>3004</td>\n",
       "    </tr>\n",
       "    <tr>\n",
       "      <th>6</th>\n",
       "      <td>Broadway &amp; W 60 St</td>\n",
       "      <td>2789</td>\n",
       "    </tr>\n",
       "    <tr>\n",
       "      <th>7</th>\n",
       "      <td>Grand St &amp; Elizabeth St</td>\n",
       "      <td>2723</td>\n",
       "    </tr>\n",
       "    <tr>\n",
       "      <th>8</th>\n",
       "      <td>Pershing Square North</td>\n",
       "      <td>2622</td>\n",
       "    </tr>\n",
       "    <tr>\n",
       "      <th>9</th>\n",
       "      <td>Clinton St &amp; Grand St</td>\n",
       "      <td>2611</td>\n",
       "    </tr>\n",
       "  </tbody>\n",
       "</table>\n",
       "</div>"
      ],
      "text/plain": [
       "              Station name  counts\n",
       "0          1 Ave & E 68 St    4226\n",
       "1          W 21 St & 6 Ave    3734\n",
       "2       E 17 St & Broadway    3481\n",
       "3          W 33 St & 7 Ave    3161\n",
       "4       E 13 St & Avenue A    3043\n",
       "5          E 33 St & 1 Ave    3004\n",
       "6       Broadway & W 60 St    2789\n",
       "7  Grand St & Elizabeth St    2723\n",
       "8    Pershing Square North    2622\n",
       "9    Clinton St & Grand St    2611"
      ]
     },
     "execution_count": 17,
     "metadata": {},
     "output_type": "execute_result"
    }
   ],
   "source": [
    "end_stations = data[\"end station name\"].value_counts().rename_axis('Station name').reset_index(name='counts')\n",
    "end_stations = end_stations.nlargest(10, 'counts')\n",
    "end_stations"
   ]
  },
  {
   "cell_type": "code",
   "execution_count": 18,
   "metadata": {},
   "outputs": [
    {
     "data": {
      "image/png": "[encoded data removed]",
      "text/plain": [
       "<Figure size 360x360 with 1 Axes>"
      ]
     },
     "metadata": {},
     "output_type": "display_data"
    }
   ],
   "source": [
    "end_station_plot = sns.catplot(y=\"Station name\", x=\"counts\", orient=\"h\", kind=\"bar\", data=end_stations)"
   ]
  },
  {
   "cell_type": "markdown",
   "metadata": {},
   "source": [
    "We can see from both plots that the top 10 start and end stations are consistent with each other. This indicates high taffic areas which can be potential locations for adding more bikes and bike docks. "
   ]
  },
  {
   "cell_type": "markdown",
   "metadata": {},
   "source": [
    "#### Origin-Destination Pairs\n",
    "\n",
    "Here we create `od_trips` which contains the origin-destination pairs derived from the unique pairs of `start station name` and `end station name`."
   ]
  },
  {
   "cell_type": "code",
   "execution_count": 19,
   "metadata": {},
   "outputs": [
    {
     "data": {
      "text/html": [
       "<div>\n",
       "<style scoped>\n",
       "    .dataframe tbody tr th:only-of-type {\n",
       "        vertical-align: middle;\n",
       "    }\n",
       "\n",
       "    .dataframe tbody tr th {\n",
       "        vertical-align: top;\n",
       "    }\n",
       "\n",
       "    .dataframe thead th {\n",
       "        text-align: right;\n",
       "    }\n",
       "</style>\n",
       "<table border=\"1\" class=\"dataframe\">\n",
       "  <thead>\n",
       "    <tr style=\"text-align: right;\">\n",
       "      <th></th>\n",
       "      <th>start</th>\n",
       "      <th>end</th>\n",
       "      <th>total_trips</th>\n",
       "    </tr>\n",
       "  </thead>\n",
       "  <tbody>\n",
       "    <tr>\n",
       "      <th>0</th>\n",
       "      <td>1 Ave &amp; E 110 St</td>\n",
       "      <td>1 Ave &amp; E 110 St</td>\n",
       "      <td>17</td>\n",
       "    </tr>\n",
       "    <tr>\n",
       "      <th>1</th>\n",
       "      <td>1 Ave &amp; E 110 St</td>\n",
       "      <td>1 Ave &amp; E 68 St</td>\n",
       "      <td>11</td>\n",
       "    </tr>\n",
       "    <tr>\n",
       "      <th>2</th>\n",
       "      <td>1 Ave &amp; E 110 St</td>\n",
       "      <td>1 Ave &amp; E 78 St</td>\n",
       "      <td>1</td>\n",
       "    </tr>\n",
       "    <tr>\n",
       "      <th>3</th>\n",
       "      <td>1 Ave &amp; E 110 St</td>\n",
       "      <td>1 Ave &amp; E 94 St</td>\n",
       "      <td>2</td>\n",
       "    </tr>\n",
       "    <tr>\n",
       "      <th>4</th>\n",
       "      <td>1 Ave &amp; E 110 St</td>\n",
       "      <td>2 Ave &amp; E 104 St</td>\n",
       "      <td>2</td>\n",
       "    </tr>\n",
       "  </tbody>\n",
       "</table>\n",
       "</div>"
      ],
      "text/plain": [
       "              start               end  total_trips\n",
       "0  1 Ave & E 110 St  1 Ave & E 110 St           17\n",
       "1  1 Ave & E 110 St   1 Ave & E 68 St           11\n",
       "2  1 Ave & E 110 St   1 Ave & E 78 St            1\n",
       "3  1 Ave & E 110 St   1 Ave & E 94 St            2\n",
       "4  1 Ave & E 110 St  2 Ave & E 104 St            2"
      ]
     },
     "execution_count": 19,
     "metadata": {},
     "output_type": "execute_result"
    }
   ],
   "source": [
    "## Count of rides per OD\n",
    "od_trips = data.groupby(['start station name', 'end station name'], as_index=False)['bikeid'].count()\n",
    "od_trips = od_trips.rename(columns={\"start station name\": \"start\", \"end station name\": \"end\", \"bikeid\": \"total_trips\"}, errors=\"raise\")\n",
    "od_trips.head()"
   ]
  },
  {
   "cell_type": "code",
   "execution_count": 20,
   "metadata": {},
   "outputs": [
    {
     "data": {
      "text/html": [
       "<div>\n",
       "<style scoped>\n",
       "    .dataframe tbody tr th:only-of-type {\n",
       "        vertical-align: middle;\n",
       "    }\n",
       "\n",
       "    .dataframe tbody tr th {\n",
       "        vertical-align: top;\n",
       "    }\n",
       "\n",
       "    .dataframe thead th {\n",
       "        text-align: right;\n",
       "    }\n",
       "</style>\n",
       "<table border=\"1\" class=\"dataframe\">\n",
       "  <thead>\n",
       "    <tr style=\"text-align: right;\">\n",
       "      <th></th>\n",
       "      <th>start</th>\n",
       "      <th>end</th>\n",
       "      <th>total_trips</th>\n",
       "      <th>od</th>\n",
       "    </tr>\n",
       "  </thead>\n",
       "  <tbody>\n",
       "    <tr>\n",
       "      <th>0</th>\n",
       "      <td>1 Ave &amp; E 110 St</td>\n",
       "      <td>1 Ave &amp; E 110 St</td>\n",
       "      <td>17</td>\n",
       "      <td>1 Ave &amp; E 110 St to 1 Ave &amp; E 110 St</td>\n",
       "    </tr>\n",
       "    <tr>\n",
       "      <th>1</th>\n",
       "      <td>1 Ave &amp; E 110 St</td>\n",
       "      <td>1 Ave &amp; E 68 St</td>\n",
       "      <td>11</td>\n",
       "      <td>1 Ave &amp; E 110 St to 1 Ave &amp; E 68 St</td>\n",
       "    </tr>\n",
       "    <tr>\n",
       "      <th>2</th>\n",
       "      <td>1 Ave &amp; E 110 St</td>\n",
       "      <td>1 Ave &amp; E 78 St</td>\n",
       "      <td>1</td>\n",
       "      <td>1 Ave &amp; E 110 St to 1 Ave &amp; E 78 St</td>\n",
       "    </tr>\n",
       "    <tr>\n",
       "      <th>3</th>\n",
       "      <td>1 Ave &amp; E 110 St</td>\n",
       "      <td>1 Ave &amp; E 94 St</td>\n",
       "      <td>2</td>\n",
       "      <td>1 Ave &amp; E 110 St to 1 Ave &amp; E 94 St</td>\n",
       "    </tr>\n",
       "    <tr>\n",
       "      <th>4</th>\n",
       "      <td>1 Ave &amp; E 110 St</td>\n",
       "      <td>2 Ave &amp; E 104 St</td>\n",
       "      <td>2</td>\n",
       "      <td>1 Ave &amp; E 110 St to 2 Ave &amp; E 104 St</td>\n",
       "    </tr>\n",
       "    <tr>\n",
       "      <th>...</th>\n",
       "      <td>...</td>\n",
       "      <td>...</td>\n",
       "      <td>...</td>\n",
       "      <td>...</td>\n",
       "    </tr>\n",
       "    <tr>\n",
       "      <th>164369</th>\n",
       "      <td>Wythe Ave &amp; Metropolitan Ave</td>\n",
       "      <td>Willoughby Ave &amp; Tompkins Ave</td>\n",
       "      <td>2</td>\n",
       "      <td>Wythe Ave &amp; Metropolitan Ave to Willoughby Ave...</td>\n",
       "    </tr>\n",
       "    <tr>\n",
       "      <th>164370</th>\n",
       "      <td>Wythe Ave &amp; Metropolitan Ave</td>\n",
       "      <td>Willoughby Ave &amp; Walworth St</td>\n",
       "      <td>1</td>\n",
       "      <td>Wythe Ave &amp; Metropolitan Ave to Willoughby Ave...</td>\n",
       "    </tr>\n",
       "    <tr>\n",
       "      <th>164371</th>\n",
       "      <td>Wythe Ave &amp; Metropolitan Ave</td>\n",
       "      <td>Willoughby St &amp; Fleet St</td>\n",
       "      <td>1</td>\n",
       "      <td>Wythe Ave &amp; Metropolitan Ave to Willoughby St ...</td>\n",
       "    </tr>\n",
       "    <tr>\n",
       "      <th>164372</th>\n",
       "      <td>Wythe Ave &amp; Metropolitan Ave</td>\n",
       "      <td>Wyckoff Av &amp; Stanhope St</td>\n",
       "      <td>1</td>\n",
       "      <td>Wythe Ave &amp; Metropolitan Ave to Wyckoff Av &amp; S...</td>\n",
       "    </tr>\n",
       "    <tr>\n",
       "      <th>164373</th>\n",
       "      <td>Wythe Ave &amp; Metropolitan Ave</td>\n",
       "      <td>Wythe Ave &amp; Metropolitan Ave</td>\n",
       "      <td>42</td>\n",
       "      <td>Wythe Ave &amp; Metropolitan Ave to Wythe Ave &amp; Me...</td>\n",
       "    </tr>\n",
       "  </tbody>\n",
       "</table>\n",
       "<p>164374 rows × 4 columns</p>\n",
       "</div>"
      ],
      "text/plain": [
       "                               start                            end  \\\n",
       "0                   1 Ave & E 110 St               1 Ave & E 110 St   \n",
       "1                   1 Ave & E 110 St                1 Ave & E 68 St   \n",
       "2                   1 Ave & E 110 St                1 Ave & E 78 St   \n",
       "3                   1 Ave & E 110 St                1 Ave & E 94 St   \n",
       "4                   1 Ave & E 110 St               2 Ave & E 104 St   \n",
       "...                              ...                            ...   \n",
       "164369  Wythe Ave & Metropolitan Ave  Willoughby Ave & Tompkins Ave   \n",
       "164370  Wythe Ave & Metropolitan Ave   Willoughby Ave & Walworth St   \n",
       "164371  Wythe Ave & Metropolitan Ave       Willoughby St & Fleet St   \n",
       "164372  Wythe Ave & Metropolitan Ave       Wyckoff Av & Stanhope St   \n",
       "164373  Wythe Ave & Metropolitan Ave   Wythe Ave & Metropolitan Ave   \n",
       "\n",
       "        total_trips                                                 od  \n",
       "0                17               1 Ave & E 110 St to 1 Ave & E 110 St  \n",
       "1                11                1 Ave & E 110 St to 1 Ave & E 68 St  \n",
       "2                 1                1 Ave & E 110 St to 1 Ave & E 78 St  \n",
       "3                 2                1 Ave & E 110 St to 1 Ave & E 94 St  \n",
       "4                 2               1 Ave & E 110 St to 2 Ave & E 104 St  \n",
       "...             ...                                                ...  \n",
       "164369            2  Wythe Ave & Metropolitan Ave to Willoughby Ave...  \n",
       "164370            1  Wythe Ave & Metropolitan Ave to Willoughby Ave...  \n",
       "164371            1  Wythe Ave & Metropolitan Ave to Willoughby St ...  \n",
       "164372            1  Wythe Ave & Metropolitan Ave to Wyckoff Av & S...  \n",
       "164373           42  Wythe Ave & Metropolitan Ave to Wythe Ave & Me...  \n",
       "\n",
       "[164374 rows x 4 columns]"
      ]
     },
     "execution_count": 20,
     "metadata": {},
     "output_type": "execute_result"
    }
   ],
   "source": [
    "od_trips[\"od\"] = od_trips[\"start\"] + \" to \" + od_trips[\"end\"]\n",
    "od_trips"
   ]
  },
  {
   "cell_type": "code",
   "execution_count": 21,
   "metadata": {},
   "outputs": [
    {
     "name": "stderr",
     "output_type": "stream",
     "text": [
      "C:\\Users\\Ghael\\anaconda3\\lib\\site-packages\\seaborn\\axisgrid.py:64: UserWarning: Tight layout not applied. The left and right margins cannot be made large enough to accommodate all axes decorations. \n",
      "  self.fig.tight_layout(*args, **kwargs)\n"
     ]
    },
    {
     "data": {
      "image/png": "[encoded data removed]",
      "text/plain": [
       "<Figure size 360x360 with 1 Axes>"
      ]
     },
     "metadata": {},
     "output_type": "display_data"
    }
   ],
   "source": [
    "od_rank_plot = sns.catplot(y=\"od\", x=\"total_trips\", orient=\"h\", kind=\"bar\", data=od_trips.nlargest(10, \"total_trips\"))"
   ]
  },
  {
   "cell_type": "markdown",
   "metadata": {},
   "source": [
    "#### Origin-Destination Matrix\n",
    "\n",
    "In this part, we focus on analyzing the number of trips between the top 10 `start` and `end` stations. It would be impossible to visually analyze for all possible pairs because the dataset is too big."
   ]
  },
  {
   "cell_type": "code",
   "execution_count": 22,
   "metadata": {},
   "outputs": [
    {
     "data": {
      "text/html": [
       "<div>\n",
       "<style scoped>\n",
       "    .dataframe tbody tr th:only-of-type {\n",
       "        vertical-align: middle;\n",
       "    }\n",
       "\n",
       "    .dataframe tbody tr th {\n",
       "        vertical-align: top;\n",
       "    }\n",
       "\n",
       "    .dataframe thead th {\n",
       "        text-align: right;\n",
       "    }\n",
       "</style>\n",
       "<table border=\"1\" class=\"dataframe\">\n",
       "  <thead>\n",
       "    <tr style=\"text-align: right;\">\n",
       "      <th></th>\n",
       "      <th>start</th>\n",
       "      <th>end</th>\n",
       "      <th>total_trips</th>\n",
       "      <th>od</th>\n",
       "    </tr>\n",
       "  </thead>\n",
       "  <tbody>\n",
       "    <tr>\n",
       "      <th>2318</th>\n",
       "      <td>1 Ave &amp; E 68 St</td>\n",
       "      <td>1 Ave &amp; E 68 St</td>\n",
       "      <td>87</td>\n",
       "      <td>1 Ave &amp; E 68 St to 1 Ave &amp; E 68 St</td>\n",
       "    </tr>\n",
       "    <tr>\n",
       "      <th>2433</th>\n",
       "      <td>1 Ave &amp; E 68 St</td>\n",
       "      <td>Broadway &amp; W 60 St</td>\n",
       "      <td>37</td>\n",
       "      <td>1 Ave &amp; E 68 St to Broadway &amp; W 60 St</td>\n",
       "    </tr>\n",
       "    <tr>\n",
       "      <th>2451</th>\n",
       "      <td>1 Ave &amp; E 68 St</td>\n",
       "      <td>Clinton St &amp; Grand St</td>\n",
       "      <td>2</td>\n",
       "      <td>1 Ave &amp; E 68 St to Clinton St &amp; Grand St</td>\n",
       "    </tr>\n",
       "    <tr>\n",
       "      <th>2482</th>\n",
       "      <td>1 Ave &amp; E 68 St</td>\n",
       "      <td>E 13 St &amp; Avenue A</td>\n",
       "      <td>8</td>\n",
       "      <td>1 Ave &amp; E 68 St to E 13 St &amp; Avenue A</td>\n",
       "    </tr>\n",
       "    <tr>\n",
       "      <th>2489</th>\n",
       "      <td>1 Ave &amp; E 68 St</td>\n",
       "      <td>E 17 St &amp; Broadway</td>\n",
       "      <td>9</td>\n",
       "      <td>1 Ave &amp; E 68 St to E 17 St &amp; Broadway</td>\n",
       "    </tr>\n",
       "    <tr>\n",
       "      <th>...</th>\n",
       "      <td>...</td>\n",
       "      <td>...</td>\n",
       "      <td>...</td>\n",
       "      <td>...</td>\n",
       "    </tr>\n",
       "    <tr>\n",
       "      <th>145506</th>\n",
       "      <td>W 33 St &amp; 7 Ave</td>\n",
       "      <td>E 33 St &amp; 1 Ave</td>\n",
       "      <td>207</td>\n",
       "      <td>W 33 St &amp; 7 Ave to E 33 St &amp; 1 Ave</td>\n",
       "    </tr>\n",
       "    <tr>\n",
       "      <th>145574</th>\n",
       "      <td>W 33 St &amp; 7 Ave</td>\n",
       "      <td>Grand St &amp; Elizabeth St</td>\n",
       "      <td>4</td>\n",
       "      <td>W 33 St &amp; 7 Ave to Grand St &amp; Elizabeth St</td>\n",
       "    </tr>\n",
       "    <tr>\n",
       "      <th>145621</th>\n",
       "      <td>W 33 St &amp; 7 Ave</td>\n",
       "      <td>Pershing Square North</td>\n",
       "      <td>93</td>\n",
       "      <td>W 33 St &amp; 7 Ave to Pershing Square North</td>\n",
       "    </tr>\n",
       "    <tr>\n",
       "      <th>145660</th>\n",
       "      <td>W 33 St &amp; 7 Ave</td>\n",
       "      <td>W 21 St &amp; 6 Ave</td>\n",
       "      <td>21</td>\n",
       "      <td>W 33 St &amp; 7 Ave to W 21 St &amp; 6 Ave</td>\n",
       "    </tr>\n",
       "    <tr>\n",
       "      <th>145671</th>\n",
       "      <td>W 33 St &amp; 7 Ave</td>\n",
       "      <td>W 33 St &amp; 7 Ave</td>\n",
       "      <td>34</td>\n",
       "      <td>W 33 St &amp; 7 Ave to W 33 St &amp; 7 Ave</td>\n",
       "    </tr>\n",
       "  </tbody>\n",
       "</table>\n",
       "<p>92 rows × 4 columns</p>\n",
       "</div>"
      ],
      "text/plain": [
       "                  start                      end  total_trips  \\\n",
       "2318    1 Ave & E 68 St          1 Ave & E 68 St           87   \n",
       "2433    1 Ave & E 68 St       Broadway & W 60 St           37   \n",
       "2451    1 Ave & E 68 St    Clinton St & Grand St            2   \n",
       "2482    1 Ave & E 68 St       E 13 St & Avenue A            8   \n",
       "2489    1 Ave & E 68 St       E 17 St & Broadway            9   \n",
       "...                 ...                      ...          ...   \n",
       "145506  W 33 St & 7 Ave          E 33 St & 1 Ave          207   \n",
       "145574  W 33 St & 7 Ave  Grand St & Elizabeth St            4   \n",
       "145621  W 33 St & 7 Ave    Pershing Square North           93   \n",
       "145660  W 33 St & 7 Ave          W 21 St & 6 Ave           21   \n",
       "145671  W 33 St & 7 Ave          W 33 St & 7 Ave           34   \n",
       "\n",
       "                                                od  \n",
       "2318            1 Ave & E 68 St to 1 Ave & E 68 St  \n",
       "2433         1 Ave & E 68 St to Broadway & W 60 St  \n",
       "2451      1 Ave & E 68 St to Clinton St & Grand St  \n",
       "2482         1 Ave & E 68 St to E 13 St & Avenue A  \n",
       "2489         1 Ave & E 68 St to E 17 St & Broadway  \n",
       "...                                            ...  \n",
       "145506          W 33 St & 7 Ave to E 33 St & 1 Ave  \n",
       "145574  W 33 St & 7 Ave to Grand St & Elizabeth St  \n",
       "145621    W 33 St & 7 Ave to Pershing Square North  \n",
       "145660          W 33 St & 7 Ave to W 21 St & 6 Ave  \n",
       "145671          W 33 St & 7 Ave to W 33 St & 7 Ave  \n",
       "\n",
       "[92 rows x 4 columns]"
      ]
     },
     "execution_count": 22,
     "metadata": {},
     "output_type": "execute_result"
    }
   ],
   "source": [
    "# Get the trips between the top 10 stations.\n",
    "\n",
    "od_topten = od_trips[od_trips.start.isin(start_stations[\"Station name\"]) & od_trips.end.isin(end_stations[\"Station name\"])]\n",
    "od_topten"
   ]
  },
  {
   "cell_type": "code",
   "execution_count": 23,
   "metadata": {},
   "outputs": [
    {
     "data": {
      "text/html": [
       "<div>\n",
       "<style scoped>\n",
       "    .dataframe tbody tr th:only-of-type {\n",
       "        vertical-align: middle;\n",
       "    }\n",
       "\n",
       "    .dataframe tbody tr th {\n",
       "        vertical-align: top;\n",
       "    }\n",
       "\n",
       "    .dataframe thead th {\n",
       "        text-align: right;\n",
       "    }\n",
       "</style>\n",
       "<table border=\"1\" class=\"dataframe\">\n",
       "  <thead>\n",
       "    <tr style=\"text-align: right;\">\n",
       "      <th>end</th>\n",
       "      <th>1 Ave &amp; E 68 St</th>\n",
       "      <th>Broadway &amp; W 60 St</th>\n",
       "      <th>Clinton St &amp; Grand St</th>\n",
       "      <th>E 13 St &amp; Avenue A</th>\n",
       "      <th>E 17 St &amp; Broadway</th>\n",
       "      <th>E 33 St &amp; 1 Ave</th>\n",
       "      <th>Grand St &amp; Elizabeth St</th>\n",
       "      <th>Pershing Square North</th>\n",
       "      <th>W 21 St &amp; 6 Ave</th>\n",
       "      <th>W 33 St &amp; 7 Ave</th>\n",
       "    </tr>\n",
       "    <tr>\n",
       "      <th>start</th>\n",
       "      <th></th>\n",
       "      <th></th>\n",
       "      <th></th>\n",
       "      <th></th>\n",
       "      <th></th>\n",
       "      <th></th>\n",
       "      <th></th>\n",
       "      <th></th>\n",
       "      <th></th>\n",
       "      <th></th>\n",
       "    </tr>\n",
       "  </thead>\n",
       "  <tbody>\n",
       "    <tr>\n",
       "      <th>1 Ave &amp; E 68 St</th>\n",
       "      <td>87</td>\n",
       "      <td>37</td>\n",
       "      <td>2</td>\n",
       "      <td>8</td>\n",
       "      <td>9</td>\n",
       "      <td>11</td>\n",
       "      <td>13</td>\n",
       "      <td>13</td>\n",
       "      <td>1</td>\n",
       "      <td>62</td>\n",
       "    </tr>\n",
       "    <tr>\n",
       "      <th>Broadway &amp; W 60 St</th>\n",
       "      <td>35</td>\n",
       "      <td>89</td>\n",
       "      <td>1</td>\n",
       "      <td>0</td>\n",
       "      <td>6</td>\n",
       "      <td>1</td>\n",
       "      <td>1</td>\n",
       "      <td>9</td>\n",
       "      <td>2</td>\n",
       "      <td>6</td>\n",
       "    </tr>\n",
       "    <tr>\n",
       "      <th>Clinton St &amp; Grand St</th>\n",
       "      <td>0</td>\n",
       "      <td>1</td>\n",
       "      <td>97</td>\n",
       "      <td>20</td>\n",
       "      <td>11</td>\n",
       "      <td>1</td>\n",
       "      <td>90</td>\n",
       "      <td>3</td>\n",
       "      <td>4</td>\n",
       "      <td>0</td>\n",
       "    </tr>\n",
       "    <tr>\n",
       "      <th>E 13 St &amp; Avenue A</th>\n",
       "      <td>10</td>\n",
       "      <td>0</td>\n",
       "      <td>18</td>\n",
       "      <td>107</td>\n",
       "      <td>35</td>\n",
       "      <td>5</td>\n",
       "      <td>11</td>\n",
       "      <td>3</td>\n",
       "      <td>30</td>\n",
       "      <td>5</td>\n",
       "    </tr>\n",
       "    <tr>\n",
       "      <th>E 17 St &amp; Broadway</th>\n",
       "      <td>4</td>\n",
       "      <td>3</td>\n",
       "      <td>9</td>\n",
       "      <td>46</td>\n",
       "      <td>81</td>\n",
       "      <td>22</td>\n",
       "      <td>8</td>\n",
       "      <td>20</td>\n",
       "      <td>78</td>\n",
       "      <td>13</td>\n",
       "    </tr>\n",
       "    <tr>\n",
       "      <th>E 33 St &amp; 1 Ave</th>\n",
       "      <td>40</td>\n",
       "      <td>1</td>\n",
       "      <td>1</td>\n",
       "      <td>23</td>\n",
       "      <td>32</td>\n",
       "      <td>64</td>\n",
       "      <td>8</td>\n",
       "      <td>84</td>\n",
       "      <td>32</td>\n",
       "      <td>199</td>\n",
       "    </tr>\n",
       "    <tr>\n",
       "      <th>Grand St &amp; Elizabeth St</th>\n",
       "      <td>1</td>\n",
       "      <td>0</td>\n",
       "      <td>96</td>\n",
       "      <td>15</td>\n",
       "      <td>15</td>\n",
       "      <td>8</td>\n",
       "      <td>70</td>\n",
       "      <td>0</td>\n",
       "      <td>16</td>\n",
       "      <td>0</td>\n",
       "    </tr>\n",
       "    <tr>\n",
       "      <th>Pershing Square North</th>\n",
       "      <td>31</td>\n",
       "      <td>9</td>\n",
       "      <td>3</td>\n",
       "      <td>8</td>\n",
       "      <td>20</td>\n",
       "      <td>108</td>\n",
       "      <td>0</td>\n",
       "      <td>27</td>\n",
       "      <td>11</td>\n",
       "      <td>84</td>\n",
       "    </tr>\n",
       "    <tr>\n",
       "      <th>W 21 St &amp; 6 Ave</th>\n",
       "      <td>2</td>\n",
       "      <td>4</td>\n",
       "      <td>6</td>\n",
       "      <td>19</td>\n",
       "      <td>25</td>\n",
       "      <td>12</td>\n",
       "      <td>8</td>\n",
       "      <td>10</td>\n",
       "      <td>69</td>\n",
       "      <td>18</td>\n",
       "    </tr>\n",
       "    <tr>\n",
       "      <th>W 33 St &amp; 7 Ave</th>\n",
       "      <td>48</td>\n",
       "      <td>6</td>\n",
       "      <td>3</td>\n",
       "      <td>7</td>\n",
       "      <td>30</td>\n",
       "      <td>207</td>\n",
       "      <td>4</td>\n",
       "      <td>93</td>\n",
       "      <td>21</td>\n",
       "      <td>34</td>\n",
       "    </tr>\n",
       "  </tbody>\n",
       "</table>\n",
       "</div>"
      ],
      "text/plain": [
       "end                      1 Ave & E 68 St  Broadway & W 60 St  \\\n",
       "start                                                          \n",
       "1 Ave & E 68 St                       87                  37   \n",
       "Broadway & W 60 St                    35                  89   \n",
       "Clinton St & Grand St                  0                   1   \n",
       "E 13 St & Avenue A                    10                   0   \n",
       "E 17 St & Broadway                     4                   3   \n",
       "E 33 St & 1 Ave                       40                   1   \n",
       "Grand St & Elizabeth St                1                   0   \n",
       "Pershing Square North                 31                   9   \n",
       "W 21 St & 6 Ave                        2                   4   \n",
       "W 33 St & 7 Ave                       48                   6   \n",
       "\n",
       "end                      Clinton St & Grand St  E 13 St & Avenue A  \\\n",
       "start                                                                \n",
       "1 Ave & E 68 St                              2                   8   \n",
       "Broadway & W 60 St                           1                   0   \n",
       "Clinton St & Grand St                       97                  20   \n",
       "E 13 St & Avenue A                          18                 107   \n",
       "E 17 St & Broadway                           9                  46   \n",
       "E 33 St & 1 Ave                              1                  23   \n",
       "Grand St & Elizabeth St                     96                  15   \n",
       "Pershing Square North                        3                   8   \n",
       "W 21 St & 6 Ave                              6                  19   \n",
       "W 33 St & 7 Ave                              3                   7   \n",
       "\n",
       "end                      E 17 St & Broadway  E 33 St & 1 Ave  \\\n",
       "start                                                          \n",
       "1 Ave & E 68 St                           9               11   \n",
       "Broadway & W 60 St                        6                1   \n",
       "Clinton St & Grand St                    11                1   \n",
       "E 13 St & Avenue A                       35                5   \n",
       "E 17 St & Broadway                       81               22   \n",
       "E 33 St & 1 Ave                          32               64   \n",
       "Grand St & Elizabeth St                  15                8   \n",
       "Pershing Square North                    20              108   \n",
       "W 21 St & 6 Ave                          25               12   \n",
       "W 33 St & 7 Ave                          30              207   \n",
       "\n",
       "end                      Grand St & Elizabeth St  Pershing Square North  \\\n",
       "start                                                                     \n",
       "1 Ave & E 68 St                               13                     13   \n",
       "Broadway & W 60 St                             1                      9   \n",
       "Clinton St & Grand St                         90                      3   \n",
       "E 13 St & Avenue A                            11                      3   \n",
       "E 17 St & Broadway                             8                     20   \n",
       "E 33 St & 1 Ave                                8                     84   \n",
       "Grand St & Elizabeth St                       70                      0   \n",
       "Pershing Square North                          0                     27   \n",
       "W 21 St & 6 Ave                                8                     10   \n",
       "W 33 St & 7 Ave                                4                     93   \n",
       "\n",
       "end                      W 21 St & 6 Ave  W 33 St & 7 Ave  \n",
       "start                                                      \n",
       "1 Ave & E 68 St                        1               62  \n",
       "Broadway & W 60 St                     2                6  \n",
       "Clinton St & Grand St                  4                0  \n",
       "E 13 St & Avenue A                    30                5  \n",
       "E 17 St & Broadway                    78               13  \n",
       "E 33 St & 1 Ave                       32              199  \n",
       "Grand St & Elizabeth St               16                0  \n",
       "Pershing Square North                 11               84  \n",
       "W 21 St & 6 Ave                       69               18  \n",
       "W 33 St & 7 Ave                       21               34  "
      ]
     },
     "execution_count": 23,
     "metadata": {},
     "output_type": "execute_result"
    }
   ],
   "source": [
    "# Create a matrix\n",
    "\n",
    "od_matrix = pd.pivot_table(od_topten, index='start', columns='end', values='total_trips', aggfunc=np.sum, fill_value=0)\n",
    "od_matrix"
   ]
  },
  {
   "cell_type": "code",
   "execution_count": 24,
   "metadata": {},
   "outputs": [
    {
     "data": {
      "image/png": "[encoded data removed]",
      "text/plain": [
       "<Figure size 432x288 with 2 Axes>"
      ]
     },
     "metadata": {},
     "output_type": "display_data"
    }
   ],
   "source": [
    "# Generate a heatmap\n",
    "\n",
    "od_heatmap = sns.heatmap(od_matrix)"
   ]
  },
  {
   "cell_type": "code",
   "execution_count": 25,
   "metadata": {},
   "outputs": [
    {
     "data": {
      "image/png": "[encoded data removed]",
      "text/plain": [
       "<Figure size 432x288 with 2 Axes>"
      ]
     },
     "metadata": {},
     "output_type": "display_data"
    }
   ],
   "source": [
    "# Change color palette\n",
    "\n",
    "od_heatmap = sns.heatmap(od_matrix, cmap=\"YlGnBu\", annot=True, fmt=\"d\")"
   ]
  },
  {
   "cell_type": "markdown",
   "metadata": {},
   "source": [
    "#### Gender"
   ]
  },
  {
   "cell_type": "code",
   "execution_count": 26,
   "metadata": {},
   "outputs": [
    {
     "data": {
      "image/png": "[encoded data removed]",
      "text/plain": [
       "<Figure size 360x360 with 1 Axes>"
      ]
     },
     "metadata": {},
     "output_type": "display_data"
    }
   ],
   "source": [
    "gender_plot = sns.catplot(x=\"gender\", kind=\"count\", order=[1, 2, 0], data=data)"
   ]
  },
  {
   "cell_type": "markdown",
   "metadata": {},
   "source": [
    "It seems that the dataset contains mostly zero (0) values for the gender. We can continue our analysis by removing those trips with unknown gender."
   ]
  },
  {
   "cell_type": "code",
   "execution_count": 27,
   "metadata": {},
   "outputs": [
    {
     "data": {
      "image/png": "[encoded data removed]",
      "text/plain": [
       "<Figure size 360x360 with 1 Axes>"
      ]
     },
     "metadata": {},
     "output_type": "display_data"
    }
   ],
   "source": [
    "gender_plot = sns.catplot(x=\"gender\", kind=\"count\", order=[1, 2], data=data[data[\"gender\"] > 0])"
   ]
  },
  {
   "cell_type": "markdown",
   "metadata": {},
   "source": [
    "#### Day of week"
   ]
  },
  {
   "cell_type": "code",
   "execution_count": 28,
   "metadata": {},
   "outputs": [
    {
     "data": {
      "image/png": "[encoded data removed]",
      "text/plain": [
       "<Figure size 360x360 with 1 Axes>"
      ]
     },
     "metadata": {},
     "output_type": "display_data"
    }
   ],
   "source": [
    "dow_plot = sns.catplot(x=\"dayofweek\", kind=\"count\", data=data)"
   ]
  },
  {
   "cell_type": "markdown",
   "metadata": {},
   "source": [
    "The values for `dayofweek` starts with `0` or `Monday` and ends with `6` or `Sunday`. Based on the bar plot above, most trips happen on Wednesdays, Fridays and Saturdays."
   ]
  },
  {
   "cell_type": "markdown",
   "metadata": {},
   "source": [
    "#### Hour of day"
   ]
  },
  {
   "cell_type": "code",
   "execution_count": 29,
   "metadata": {},
   "outputs": [
    {
     "data": {
      "image/png": "[encoded data removed]",
      "text/plain": [
       "<Figure size 360x360 with 1 Axes>"
      ]
     },
     "metadata": {},
     "output_type": "display_data"
    }
   ],
   "source": [
    "hod_plot = sns.catplot(x=\"hourofday\", kind=\"count\", data=data)"
   ]
  },
  {
   "cell_type": "markdown",
   "metadata": {},
   "source": [
    "From the plot, the number of trips starts increasing from 12 noon and peaks at 5PM. "
   ]
  },
  {
   "cell_type": "markdown",
   "metadata": {},
   "source": [
    "#### Duration in minutes"
   ]
  },
  {
   "cell_type": "code",
   "execution_count": 30,
   "metadata": {},
   "outputs": [
    {
     "data": {
      "text/plain": [
       "count    634631.000000\n",
       "mean         17.400660\n",
       "std         201.039591\n",
       "min           1.016667\n",
       "25%           5.750000\n",
       "50%           9.883333\n",
       "75%          17.266667\n",
       "max       34420.700000\n",
       "Name: duration_min, dtype: float64"
      ]
     },
     "execution_count": 30,
     "metadata": {},
     "output_type": "execute_result"
    }
   ],
   "source": [
    "data[\"duration_min\"].describe()"
   ]
  },
  {
   "cell_type": "markdown",
   "metadata": {},
   "source": [
    "#### Detect and remove outliers\n",
    "\n",
    "Outliers are defined as values that is more than 3 standard deviations away from the mean. Here, we detect them by computing the z score of each value, which is relative to the mean and standard deviation."
   ]
  },
  {
   "cell_type": "code",
   "execution_count": 31,
   "metadata": {},
   "outputs": [
    {
     "data": {
      "text/plain": [
       "55        3793.983333\n",
       "128       4257.516667\n",
       "280       1364.983333\n",
       "287       3014.366667\n",
       "290       3205.933333\n",
       "             ...     \n",
       "631214    7005.816667\n",
       "632255    1363.300000\n",
       "633024    5281.700000\n",
       "633398    6875.366667\n",
       "633877    1165.300000\n",
       "Name: duration_min, Length: 624, dtype: float64"
      ]
     },
     "execution_count": 31,
     "metadata": {},
     "output_type": "execute_result"
    }
   ],
   "source": [
    "z_scores = zscore(data[\"duration_min\"]) \n",
    "\n",
    "# Get their absolute values for easy filtering\n",
    "abs_z_scores = np.abs(z_scores)\n",
    "\n",
    "# An array of boolean values with same length as the original dataset. \n",
    "# True if value is less than 3 standard deviations from the mean or not an outlier. Otherwise, False.\n",
    "filtered_entries = (abs_z_scores < 3) \n",
    "\n",
    "# Array of boolean values where value is True if it is an outlier, otherwise False.\n",
    "duration_min_outliers = (abs_z_scores >= 3)\n",
    "data[duration_min_outliers].duration_min # Show outlier values"
   ]
  },
  {
   "cell_type": "markdown",
   "metadata": {},
   "source": [
    "#### Histograms with KDE"
   ]
  },
  {
   "cell_type": "code",
   "execution_count": 32,
   "metadata": {},
   "outputs": [
    {
     "data": {
      "image/png": "[encoded data removed]",
      "text/plain": [
       "<Figure size 360x360 with 1 Axes>"
      ]
     },
     "metadata": {},
     "output_type": "display_data"
    }
   ],
   "source": [
    "duration_plot = sns.displot(data=data[filtered_entries], x=\"duration_min\", kde=True)"
   ]
  },
  {
   "cell_type": "code",
   "execution_count": 33,
   "metadata": {},
   "outputs": [
    {
     "data": {
      "text/plain": [
       "<seaborn.axisgrid.FacetGrid at 0x2242d331df0>"
      ]
     },
     "execution_count": 33,
     "metadata": {},
     "output_type": "execute_result"
    },
    {
     "data": {
      "image/png": "[encoded data removed]",
      "text/plain": [
       "<Figure size 360x360 with 1 Axes>"
      ]
     },
     "metadata": {},
     "output_type": "display_data"
    }
   ],
   "source": [
    "# Zoom in a little closer. Let's limit the x-axis to only show values up to 200\n",
    "\n",
    "duration_plot = sns.displot(data=data[filtered_entries], x=\"duration_min\", kde=True)\n",
    "duration_plot.set(xlim=(0, 200))"
   ]
  },
  {
   "cell_type": "code",
   "execution_count": 34,
   "metadata": {},
   "outputs": [
    {
     "data": {
      "text/plain": [
       "<seaborn.axisgrid.FacetGrid at 0x22430b74a00>"
      ]
     },
     "execution_count": 34,
     "metadata": {},
     "output_type": "execute_result"
    },
    {
     "data": {
      "image/png": "[encoded data removed]",
      "text/plain": [
       "<Figure size 360x360 with 1 Axes>"
      ]
     },
     "metadata": {},
     "output_type": "display_data"
    }
   ],
   "source": [
    "# Zoom in more. Let's limit the x-axis to only show values up to 100\n",
    "\n",
    "duration_plot = sns.displot(data=data[filtered_entries], x=\"duration_min\", kde=True)\n",
    "duration_plot.set(xlim=(0, 100))"
   ]
  },
  {
   "cell_type": "markdown",
   "metadata": {},
   "source": [
    "#### ECDF with Rug Plots"
   ]
  },
  {
   "cell_type": "code",
   "execution_count": 35,
   "metadata": {},
   "outputs": [
    {
     "data": {
      "text/plain": [
       "<seaborn.axisgrid.FacetGrid at 0x22425921130>"
      ]
     },
     "execution_count": 35,
     "metadata": {},
     "output_type": "execute_result"
    },
    {
     "data": {
      "image/png": "[encoded data removed]",
      "text/plain": [
       "<Figure size 360x360 with 1 Axes>"
      ]
     },
     "metadata": {},
     "output_type": "display_data"
    }
   ],
   "source": [
    "duration_plot = sns.displot(data=data[filtered_entries], x=\"duration_min\", kind=\"ecdf\", rug=True)\n",
    "duration_plot.set(xlim=(0, 100))"
   ]
  },
  {
   "cell_type": "markdown",
   "metadata": {},
   "source": [
    "## 3. Examine relationships/correlations"
   ]
  },
  {
   "cell_type": "markdown",
   "metadata": {},
   "source": [
    "### User type and gender"
   ]
  },
  {
   "cell_type": "code",
   "execution_count": null,
   "metadata": {},
   "outputs": [],
   "source": [
    "usertype_gender_plot = sns.catplot(x=\"gender\", \n",
    "                                   kind=\"count\", \n",
    "                                   hue=\"usertype\", \n",
    "                                   palette={\"Customer\": \"g\", \"Subscriber\": \"m\"}, \n",
    "                                   data=data)"
   ]
  },
  {
   "cell_type": "markdown",
   "metadata": {},
   "source": [
    "- Users with 24-hour pass or 3-day passes did not have their gender information recorded.\n",
    "- More male subscribers than females. "
   ]
  },
  {
   "cell_type": "markdown",
   "metadata": {},
   "source": [
    "### Trip distance, duration and user type"
   ]
  },
  {
   "cell_type": "code",
   "execution_count": null,
   "metadata": {},
   "outputs": [],
   "source": [
    "dur_dist_user_plot = sns.jointplot(data=data[filtered_entries], \n",
    "                                   x=\"duration_min\", \n",
    "                                   y=\"distance_km\", \n",
    "                                   hue=\"usertype\", \n",
    "                                   palette={\"Customer\": \"g\", \"Subscriber\": \"m\"}, \n",
    "                                   alpha=0.5)\n",
    "dur_dist_user_plot.set_axis_labels(\"Trip duration (min)\", \"Trip distance (km)\", labelpad=10)\n",
    "dur_dist_user_plot.fig.set_size_inches(10.5, 6.5)"
   ]
  },
  {
   "cell_type": "code",
   "execution_count": null,
   "metadata": {},
   "outputs": [],
   "source": [
    "z_scores = zscore(data[\"distance_km\"]) \n",
    "\n",
    "# Get their absolute values for easy filtering\n",
    "abs_z_scores = np.abs(z_scores)\n",
    "\n",
    "# An array of boolean values with same length as the original dataset. \n",
    "# True if value is less than 3 standard deviations from the mean or not an outlier. Otherwise, False.\n",
    "filtered_dist = (abs_z_scores < 3) \n",
    "\n",
    "# Array of boolean values where value is True if it is an outlier, otherwise False.\n",
    "dist_outliers = (abs_z_scores >= 3)\n",
    "data[dist_outliers].distance_km # Show outlier values"
   ]
  },
  {
   "cell_type": "code",
   "execution_count": null,
   "metadata": {},
   "outputs": [],
   "source": [
    "# Plot with outliers for both duration and distance\n",
    "dur_dist_user_plot = sns.jointplot(data=data[filtered_entries & filtered_dist], \n",
    "                                   x=\"duration_min\", \n",
    "                                   y=\"distance_km\", \n",
    "                                   hue=\"usertype\", \n",
    "                                   palette={\"Customer\": \"g\", \"Subscriber\": \"m\"}, \n",
    "                                   alpha=0.5)\n",
    "dur_dist_user_plot.set_axis_labels(\"Trip duration (min)\", \"Trip distance (km)\", labelpad=10)\n",
    "dur_dist_user_plot.fig.set_size_inches(10.5, 6.5)"
   ]
  },
  {
   "cell_type": "markdown",
   "metadata": {},
   "source": [
    "### Get correlation between quantitative variables"
   ]
  },
  {
   "cell_type": "code",
   "execution_count": null,
   "metadata": {},
   "outputs": [],
   "source": [
    "data_to_corr = data[[\"gender\", \"duration_min\", \"age\", \"distance_km\"]]\n",
    "data_to_corr"
   ]
  },
  {
   "cell_type": "code",
   "execution_count": null,
   "metadata": {},
   "outputs": [],
   "source": [
    "# Get z scores of the following variables\n",
    "z_scores = zscore(data_to_corr[[\"duration_min\", \"age\", \"distance_km\"]]) \n",
    "\n",
    "# Get their absolute values for easy filtering\n",
    "abs_z_scores = np.abs(z_scores)\n",
    "\n",
    "# An array of boolean values with same length as the original dataset. \n",
    "# True if value is less than 3 standard deviations from the mean or not an outlier. Otherwise, False.\n",
    "filtered_rows = (abs_z_scores < 3).all(axis=1) \n",
    "\n",
    "# Array of boolean values where value is True if it is an outlier, otherwise False.\n",
    "data_to_corr_outliers = (abs_z_scores >= 3)\n",
    "data_to_corr[data_to_corr_outliers] # Show outlier values"
   ]
  },
  {
   "cell_type": "code",
   "execution_count": null,
   "metadata": {},
   "outputs": [],
   "source": [
    "# Remove outliers\n",
    "data_to_corr = data_to_corr[filtered_rows]"
   ]
  },
  {
   "cell_type": "markdown",
   "metadata": {},
   "source": [
    "#### Correlation Heatmap"
   ]
  },
  {
   "cell_type": "code",
   "execution_count": null,
   "metadata": {},
   "outputs": [],
   "source": [
    "data_corr_heatmap = sns.heatmap(data_to_corr.corr(), \n",
    "                                center=0, \n",
    "                                cmap=\"YlGnBu\", \n",
    "                                annot=True, \n",
    "                                vmin=-1, \n",
    "                                vmax=1)"
   ]
  },
  {
   "cell_type": "code",
   "execution_count": null,
   "metadata": {},
   "outputs": [],
   "source": [
    "mask = np.triu(np.ones_like(data_to_corr.corr(), dtype=bool))\n",
    "\n",
    "data_corr_heatmap = sns.heatmap(data_to_corr.corr(), \n",
    "                                center=0, \n",
    "                                cmap=\"YlGnBu\", \n",
    "                                annot=True, \n",
    "                                mask=mask,\n",
    "                                vmin=-1, \n",
    "                                vmax=1)"
   ]
  },
  {
   "cell_type": "markdown",
   "metadata": {},
   "source": [
    "Variables `distance_km` and `duration_min` showed some positive correlation. We can still include them as features in a modeling task later."
   ]
  },
  {
   "cell_type": "markdown",
   "metadata": {},
   "source": [
    "----\n",
    "----\n",
    "\n",
    "# Exercise Proper: Continuation of EDA\n",
    "\n",
    "We are already done in examining the individual characteristics of each variable in the dataset. You're task is to continue examining the remaining relationships (bivariate/multivariate) between variables. Here are some that you can prioritize:\n",
    "\n",
    "- Bivariate: Trip duration & time of day\n",
    "- Bivariate: User type & age\n",
    "- Bivariate: Start station & user type\n",
    "- Bivariate: End station & user type\n",
    "- Bivariate: End station & gender\n",
    "- Multi: Start station, end station & trip duration\n",
    "- Multi: Start station, end station & unique users\n",
    "- Multi: Start station, end station & user type\n",
    "- Multi: Trip distance, duration & gender\n",
    "- Multi: Average trip distance per unique user, average duration per unique user & user type\n",
    "- Multi: Average trip distance per unique user, average duration per unique user, gender & user type\n",
    "\n",
    "After creating simple visualizations for each, write down your observations in a separate cell. You do not have to interpret yet why those relationships appear. We're still doing EDA. Relax ;)"
   ]
  },
  {
   "cell_type": "markdown",
   "metadata": {},
   "source": [
    "### Bivariate: Trip duration & time of day"
   ]
  },
  {
   "cell_type": "code",
   "execution_count": null,
   "metadata": {},
   "outputs": [],
   "source": [
    "dur_hout_lplont = sns.lineplot(data=data[filtered_entries], y=\"duration_min\",x=\"hourofday\")"
   ]
  },
  {
   "cell_type": "markdown",
   "metadata": {},
   "source": [
    "At certain times of the data we can see some of the riders of citibike has diferent trip duration specially around 3 and 15 which has the highest in terms of trip duration."
   ]
  },
  {
   "cell_type": "markdown",
   "metadata": {},
   "source": [
    "### Bivariate: User type & age"
   ]
  },
  {
   "cell_type": "code",
   "execution_count": null,
   "metadata": {},
   "outputs": [],
   "source": [
    "a = data[\"age\"].unique()\n",
    "a.sort()\n",
    "a"
   ]
  },
  {
   "cell_type": "markdown",
   "metadata": {},
   "source": [
    "We can see that the ages of the users range between 17-136 years old."
   ]
  },
  {
   "cell_type": "code",
   "execution_count": null,
   "metadata": {},
   "outputs": [],
   "source": [
    "usertype_age_plot = sns.histplot(data=data, x=\"age\", hue=\"usertype\",element=\"step\", binwidth=10, binrange=(20,65))"
   ]
  },
  {
   "cell_type": "markdown",
   "metadata": {},
   "source": [
    "Based on the histogram, we can see that for each age group for subscribers, there is around 20,000-50,000 users, with the most subscribers being under the age range of 30-40 years old. For the customers, there is only around 1,000 users for 20-40 years old, while the age group of 50-60 years old reached to a user count of around 40,000+"
   ]
  },
  {
   "cell_type": "markdown",
   "metadata": {},
   "source": [
    "### Bivariate: Start station & user type"
   ]
  },
  {
   "cell_type": "code",
   "execution_count": null,
   "metadata": {},
   "outputs": [],
   "source": [
    "usertype_ss_plot = sns.catplot(x=\"start station id\", kind= \"count\", hue=\"usertype\",\n",
    "                               data=data[data[\"start station name\"].isin(end_stations[\"Station name\"])])\n",
    "\n",
    "usertype_ss_plot.fig.set_size_inches(10.5, 6.5)"
   ]
  },
  {
   "cell_type": "markdown",
   "metadata": {},
   "source": [
    "We can see the comparison between customer and subscribers count in this graph when it comes to unique start station ids. It can be seen that there are more orange than blue, but digging deeper, let's compare the density between these two user types."
   ]
  },
  {
   "cell_type": "code",
   "execution_count": null,
   "metadata": {},
   "outputs": [],
   "source": [
    "users = [\"Subscriber\", \"Customer\"]\n",
    "for u in users:\n",
    "    subset = data[data['usertype'] == u]\n",
    "    \n",
    "    sns.distplot(subset['start station id'], hist = False, kde = True, label = u)\n",
    "    \n",
    "plt.legend(title = \"User Type\")\n",
    "plt.xlabel(\"Start Station\")"
   ]
  },
  {
   "cell_type": "markdown",
   "metadata": {},
   "source": [
    "Customers and Subscribers alike seem to start from the same stations most of the time as there's almost no difference between the two lines."
   ]
  },
  {
   "cell_type": "markdown",
   "metadata": {},
   "source": [
    "### Bivariate: End station & user type"
   ]
  },
  {
   "cell_type": "code",
   "execution_count": null,
   "metadata": {},
   "outputs": [],
   "source": [
    "end_stations = data[\"end station name\"].value_counts().rename_axis('Station name').reset_index(name='counts')\n",
    "end_stations = end_stations.nlargest(10, 'counts')\n",
    "end_stations"
   ]
  },
  {
   "cell_type": "code",
   "execution_count": null,
   "metadata": {},
   "outputs": [],
   "source": [
    "endstation_usertype_plot = sns.catplot(y=\"end station name\", \n",
    "                                       kind=\"count\", \n",
    "                                       hue=\"usertype\", \n",
    "                                       palette={\"Customer\": \"red\", \"Subscriber\": \"green\"},\n",
    "                                       alpha = 0.5,\n",
    "                                       data=data[data[\"end station name\"].isin(end_stations[\"Station name\"])])\n",
    "endstation_usertype_plot.fig.set_size_inches(10.5, 6.5)"
   ]
  },
  {
   "cell_type": "markdown",
   "metadata": {},
   "source": [
    "- Since majority of the users were customer. Customer mainly affects the top 10 end stations. \n",
    "- The top 1 end station, 1 Ave & E68 St has the most number of customer but only rank 3 in the number of subscriber.\n",
    "- The top 2 end station, W21 St & 6 Ave has the most number of subscriber and rank 2 in the number of customer.\n",
    "- The top 10 end station, Clinton St & Grand St has the lowest number of customer but rank 7 in the number of subscriber. "
   ]
  },
  {
   "cell_type": "markdown",
   "metadata": {},
   "source": [
    "### Bivariate: End station & gender"
   ]
  },
  {
   "cell_type": "code",
   "execution_count": null,
   "metadata": {},
   "outputs": [],
   "source": [
    "gender_plot = sns.catplot(x=\"gender\", kind=\"count\", order=[1, 2], data=data[data[\"gender\"] > 0])The gender should be clear of uncertain values which would be 0"
   ]
  },
  {
   "cell_type": "markdown",
   "metadata": {},
   "source": [
    "The gender should be clear of uncertain values which would be 0"
   ]
  },
  {
   "cell_type": "code",
   "execution_count": 135,
   "metadata": {
    "scrolled": false
   },
   "outputs": [
    {
     "data": {
      "text/html": [
       "<div>\n",
       "<style scoped>\n",
       "    .dataframe tbody tr th:only-of-type {\n",
       "        vertical-align: middle;\n",
       "    }\n",
       "\n",
       "    .dataframe tbody tr th {\n",
       "        vertical-align: top;\n",
       "    }\n",
       "\n",
       "    .dataframe thead th {\n",
       "        text-align: right;\n",
       "    }\n",
       "</style>\n",
       "<table border=\"1\" class=\"dataframe\">\n",
       "  <thead>\n",
       "    <tr style=\"text-align: right;\">\n",
       "      <th></th>\n",
       "      <th>Station name</th>\n",
       "      <th>counts</th>\n",
       "    </tr>\n",
       "  </thead>\n",
       "  <tbody>\n",
       "    <tr>\n",
       "      <th>0</th>\n",
       "      <td>1 Ave &amp; E 68 St</td>\n",
       "      <td>4226</td>\n",
       "    </tr>\n",
       "    <tr>\n",
       "      <th>1</th>\n",
       "      <td>W 21 St &amp; 6 Ave</td>\n",
       "      <td>3734</td>\n",
       "    </tr>\n",
       "    <tr>\n",
       "      <th>2</th>\n",
       "      <td>E 17 St &amp; Broadway</td>\n",
       "      <td>3481</td>\n",
       "    </tr>\n",
       "    <tr>\n",
       "      <th>3</th>\n",
       "      <td>W 33 St &amp; 7 Ave</td>\n",
       "      <td>3161</td>\n",
       "    </tr>\n",
       "    <tr>\n",
       "      <th>4</th>\n",
       "      <td>E 13 St &amp; Avenue A</td>\n",
       "      <td>3043</td>\n",
       "    </tr>\n",
       "    <tr>\n",
       "      <th>5</th>\n",
       "      <td>E 33 St &amp; 1 Ave</td>\n",
       "      <td>3004</td>\n",
       "    </tr>\n",
       "    <tr>\n",
       "      <th>6</th>\n",
       "      <td>Broadway &amp; W 60 St</td>\n",
       "      <td>2789</td>\n",
       "    </tr>\n",
       "    <tr>\n",
       "      <th>7</th>\n",
       "      <td>Grand St &amp; Elizabeth St</td>\n",
       "      <td>2723</td>\n",
       "    </tr>\n",
       "    <tr>\n",
       "      <th>8</th>\n",
       "      <td>Pershing Square North</td>\n",
       "      <td>2622</td>\n",
       "    </tr>\n",
       "    <tr>\n",
       "      <th>9</th>\n",
       "      <td>Clinton St &amp; Grand St</td>\n",
       "      <td>2611</td>\n",
       "    </tr>\n",
       "  </tbody>\n",
       "</table>\n",
       "</div>"
      ],
      "text/plain": [
       "              Station name  counts\n",
       "0          1 Ave & E 68 St    4226\n",
       "1          W 21 St & 6 Ave    3734\n",
       "2       E 17 St & Broadway    3481\n",
       "3          W 33 St & 7 Ave    3161\n",
       "4       E 13 St & Avenue A    3043\n",
       "5          E 33 St & 1 Ave    3004\n",
       "6       Broadway & W 60 St    2789\n",
       "7  Grand St & Elizabeth St    2723\n",
       "8    Pershing Square North    2622\n",
       "9    Clinton St & Grand St    2611"
      ]
     },
     "execution_count": 135,
     "metadata": {},
     "output_type": "execute_result"
    }
   ],
   "source": [
    "end_stations = data[\"end station name\"].value_counts().rename_axis('Station name').reset_index(name='counts')\n",
    "end_stations = end_stations.nlargest(10, 'counts')\n",
    "end_stations"
   ]
  },
  {
   "cell_type": "markdown",
   "metadata": {},
   "source": [
    "There are multiple unique end stations and so only the top 10 will be shown for convenience"
   ]
  },
  {
   "cell_type": "code",
   "execution_count": 137,
   "metadata": {
    "scrolled": true
   },
   "outputs": [
    {
     "data": {
      "text/html": [
       "<div>\n",
       "<style scoped>\n",
       "    .dataframe tbody tr th:only-of-type {\n",
       "        vertical-align: middle;\n",
       "    }\n",
       "\n",
       "    .dataframe tbody tr th {\n",
       "        vertical-align: top;\n",
       "    }\n",
       "\n",
       "    .dataframe thead th {\n",
       "        text-align: right;\n",
       "    }\n",
       "</style>\n",
       "<table border=\"1\" class=\"dataframe\">\n",
       "  <thead>\n",
       "    <tr style=\"text-align: right;\">\n",
       "      <th></th>\n",
       "      <th>end</th>\n",
       "      <th>gender</th>\n",
       "      <th>count</th>\n",
       "    </tr>\n",
       "  </thead>\n",
       "  <tbody>\n",
       "    <tr>\n",
       "      <th>0</th>\n",
       "      <td>1 Ave &amp; E 110 St</td>\n",
       "      <td>1</td>\n",
       "      <td>121</td>\n",
       "    </tr>\n",
       "    <tr>\n",
       "      <th>1</th>\n",
       "      <td>1 Ave &amp; E 110 St</td>\n",
       "      <td>2</td>\n",
       "      <td>41</td>\n",
       "    </tr>\n",
       "    <tr>\n",
       "      <th>2</th>\n",
       "      <td>1 Ave &amp; E 16 St</td>\n",
       "      <td>1</td>\n",
       "      <td>523</td>\n",
       "    </tr>\n",
       "    <tr>\n",
       "      <th>3</th>\n",
       "      <td>1 Ave &amp; E 16 St</td>\n",
       "      <td>2</td>\n",
       "      <td>261</td>\n",
       "    </tr>\n",
       "    <tr>\n",
       "      <th>4</th>\n",
       "      <td>1 Ave &amp; E 18 St</td>\n",
       "      <td>1</td>\n",
       "      <td>459</td>\n",
       "    </tr>\n",
       "    <tr>\n",
       "      <th>...</th>\n",
       "      <td>...</td>\n",
       "      <td>...</td>\n",
       "      <td>...</td>\n",
       "    </tr>\n",
       "    <tr>\n",
       "      <th>2367</th>\n",
       "      <td>Wyckoff Av &amp; Stanhope St</td>\n",
       "      <td>2</td>\n",
       "      <td>13</td>\n",
       "    </tr>\n",
       "    <tr>\n",
       "      <th>2368</th>\n",
       "      <td>Wyckoff St &amp; Nevins St</td>\n",
       "      <td>1</td>\n",
       "      <td>55</td>\n",
       "    </tr>\n",
       "    <tr>\n",
       "      <th>2369</th>\n",
       "      <td>Wyckoff St &amp; Nevins St</td>\n",
       "      <td>2</td>\n",
       "      <td>25</td>\n",
       "    </tr>\n",
       "    <tr>\n",
       "      <th>2370</th>\n",
       "      <td>Wythe Ave &amp; Metropolitan Ave</td>\n",
       "      <td>1</td>\n",
       "      <td>157</td>\n",
       "    </tr>\n",
       "    <tr>\n",
       "      <th>2371</th>\n",
       "      <td>Wythe Ave &amp; Metropolitan Ave</td>\n",
       "      <td>2</td>\n",
       "      <td>81</td>\n",
       "    </tr>\n",
       "  </tbody>\n",
       "</table>\n",
       "<p>2372 rows × 3 columns</p>\n",
       "</div>"
      ],
      "text/plain": [
       "                               end  gender  count\n",
       "0                 1 Ave & E 110 St       1    121\n",
       "1                 1 Ave & E 110 St       2     41\n",
       "2                  1 Ave & E 16 St       1    523\n",
       "3                  1 Ave & E 16 St       2    261\n",
       "4                  1 Ave & E 18 St       1    459\n",
       "...                            ...     ...    ...\n",
       "2367      Wyckoff Av & Stanhope St       2     13\n",
       "2368        Wyckoff St & Nevins St       1     55\n",
       "2369        Wyckoff St & Nevins St       2     25\n",
       "2370  Wythe Ave & Metropolitan Ave       1    157\n",
       "2371  Wythe Ave & Metropolitan Ave       2     81\n",
       "\n",
       "[2372 rows x 3 columns]"
      ]
     },
     "execution_count": 137,
     "metadata": {},
     "output_type": "execute_result"
    }
   ],
   "source": [
    "gender_clean = data[data['gender'] > 0]\n",
    "end_gender = gender_clean.groupby(['end station name','gender'], as_index=False)['bikeid'].count()\n",
    "end_gender = end_gender.rename(columns={'end station name':'end','bikeid':'count'})\n",
    "end_gender\n"
   ]
  },
  {
   "cell_type": "markdown",
   "metadata": {},
   "source": [
    "A temporary table is created that has a count for which gender that is not equal to 0 has been to a specific end station."
   ]
  },
  {
   "cell_type": "code",
   "execution_count": 141,
   "metadata": {},
   "outputs": [
    {
     "data": {
      "image/png": "[encoded data removed]",
      "text/plain": [
       "<Figure size 1440x360 with 2 Axes>"
      ]
     },
     "metadata": {},
     "output_type": "display_data"
    }
   ],
   "source": [
    "fig, ax = plt.subplots(1,2,figsize=(20, 5))\n",
    "\n",
    "sns.barplot(y=\"end\", x=\"count\", orient=\"h\", data=end_gender[end_gender[\"gender\"]==1].nlargest(10, \"count\"),ax=ax[0])\n",
    "sns.barplot(y=\"end\", x=\"count\", orient=\"h\", data=end_gender[end_gender[\"gender\"]==2].nlargest(10, \"count\"),ax=ax[1])\n",
    "ax[0].set_title('Bar plot for count of Customers with a gender value of 1')\n",
    "ax[1].set_title('Bar plot for count of Customers with a gender value of 2')\n",
    "fig.tight_layout()"
   ]
  },
  {
   "cell_type": "markdown",
   "metadata": {},
   "source": [
    "It is shown here that it is more likely for both genders to end up at station W 21 St. & 6 Ave."
   ]
  },
  {
   "cell_type": "markdown",
   "metadata": {},
   "source": [
    "### Multi: Start station, end station & trip duration"
   ]
  },
  {
   "cell_type": "code",
   "execution_count": null,
   "metadata": {},
   "outputs": [],
   "source": [
    "## Average trip duration per OD\n",
    "od_start_end_trips = data.groupby(['start station name', 'end station name'], as_index=False)['duration_min'].mean()\n",
    "od_start_end_trips = od_start_end_trips.rename(columns={\"start station name\": \"start\", \"end station name\": \"end\", \"duration_min\": \"duration_min\"}, errors=\"raise\")\n",
    "od_start_end_trips"
   ]
  },
  {
   "cell_type": "code",
   "execution_count": null,
   "metadata": {},
   "outputs": [],
   "source": [
    "# Get the trips between the top 10 stations.\n",
    "od_start_end_trips_topten = od_start_end_trips[od_start_end_trips.start.isin(start_stations[\"Station name\"]) & od_start_end_trips.end.isin(end_stations[\"Station name\"])]\n",
    "od_start_end_trips_topten"
   ]
  },
  {
   "cell_type": "code",
   "execution_count": null,
   "metadata": {},
   "outputs": [],
   "source": [
    "od_matrix = pd.pivot_table(od_start_end_trips_topten, index='start', columns='end', values='duration_min', aggfunc=np.sum, fill_value=0)\n",
    "od_matrix"
   ]
  },
  {
   "cell_type": "code",
   "execution_count": null,
   "metadata": {
    "scrolled": true
   },
   "outputs": [],
   "source": [
    "# Generate a heatmap\n",
    "plt.figure(figsize=(10,10))\n",
    "od_start_end_trips_heatmap = sns.heatmap(od_matrix, vmin=0, vmax=70, annot=True)"
   ]
  },
  {
   "cell_type": "markdown",
   "metadata": {},
   "source": [
    "The location on this heatmap were selected based on the top 10 routes that people usually take. Based on the heatmap, we can see that users spent the most time riding bikes going from `Clinton St & Grand Street` TO `E 33 St & 1 Ave`; however, users only spent around 23 minutes going from `E 33 St & 1 Ave` TO `Clinton St &Grand Street`. There were some routes such as `W33 St. & 7 Ave` TO `Grand St. & Elizabeth St.` that people took 21 minutes ;however no one has ever took the opposite route which is `Grand St. & Elizabeth St.` TO `W33 St. & 7 Ave`."
   ]
  },
  {
   "cell_type": "code",
   "execution_count": null,
   "metadata": {},
   "outputs": [],
   "source": [
    "od_start_end_trips[\"od\"] = od_start_end_trips[\"start\"] + \" to \" + od_start_end_trips[\"end\"]\n",
    "od_start_end_trips"
   ]
  },
  {
   "cell_type": "code",
   "execution_count": null,
   "metadata": {},
   "outputs": [],
   "source": [
    "fig, ax = plt.subplots(1,2,figsize=(20, 5))\n",
    "sns.barplot(y=\"od\", x=\"duration_min\", orient=\"h\", data=od_start_end_trips.nlargest(10, \"duration_min\"),ax=ax[0])\n",
    "sns.barplot(y=\"od\", x=\"duration_min\", orient=\"h\", data=od_start_end_trips.nsmallest(10, \"duration_min\"),ax=ax[1])\n",
    "ax[0].set_title('Bar plot of count for Start to end stations with the most trip duration per min')\n",
    "ax[1].set_title('Bar plot of count for Start to end stations with the least trip duration per min')\n",
    "fig.tight_layout()"
   ]
  },
  {
   "cell_type": "markdown",
   "metadata": {},
   "source": [
    "On the left we can see the top 10 trip durtions users took the longest on `Norfolk St. & Broome St. to W 10 St. & Washington St.`. On the right we can see the shortest trip durations such as `23 Rd & 29 St. to 24 Ave & 29 St.`, all at around 1.0 minute."
   ]
  },
  {
   "cell_type": "markdown",
   "metadata": {},
   "source": [
    "### Multi: Start station, end station & unique users"
   ]
  },
  {
   "cell_type": "code",
   "execution_count": null,
   "metadata": {},
   "outputs": [],
   "source": [
    "## Count of bikeids per OD\n",
    "od_start_end_type = data.groupby(['start station name', 'end station name','usertype'], as_index=False)['bikeid'].count()\n",
    "od_start_end_type = od_start_end_type.rename(columns={\"start station name\": \"start\", \"end station name\": \"end\", \"usertype\": \"usertype\",\"bikeid\":\"count\"}, errors=\"raise\")\n",
    "od_start_end_type[\"od\"] = od_start_end_type[\"start\"] + \" to \" + od_start_end_type[\"end\"]\n",
    "od_start_end_type"
   ]
  },
  {
   "cell_type": "markdown",
   "metadata": {},
   "source": [
    "### Multi: Start station, end station & user type"
   ]
  },
  {
   "cell_type": "code",
   "execution_count": null,
   "metadata": {},
   "outputs": [],
   "source": [
    "## Count of bikeids per OD with user type\n",
    "od_start_end_type = data.groupby(['start station name', 'end station name','usertype'], as_index=False)['bikeid'].count()\n",
    "od_start_end_type = od_start_end_type.rename(columns={\"start station name\": \"start\", \"end station name\": \"end\", \"usertype\": \"usertype\",\"bikeid\":\"count\"}, errors=\"raise\")\n",
    "od_start_end_type[\"od\"] = od_start_end_type[\"start\"] + \" to \" + od_start_end_type[\"end\"]\n",
    "od_start_end_type"
   ]
  },
  {
   "cell_type": "code",
   "execution_count": null,
   "metadata": {},
   "outputs": [],
   "source": [
    "fig, ax = plt.subplots(1,2,figsize=(20, 5))\n",
    "\n",
    "sns.barplot(y=\"od\", x=\"count\", orient=\"h\", data=od_start_end_type[od_start_end_type[\"usertype\"]==\"Customer\"].nlargest(10, \"count\"),ax=ax[0])\n",
    "sns.barplot(y=\"od\", x=\"count\", orient=\"h\", data=od_start_end_type[od_start_end_type[\"usertype\"]==\"Subscriber\"].nlargest(10, \"count\"),ax=ax[1])\n",
    "ax[0].set_title('Bar plot of count for Customers from start to end stations')\n",
    "ax[1].set_title('Bar plot of count for Subscribers from start to end stations')\n",
    "fig.tight_layout()"
   ]
  },
  {
   "cell_type": "markdown",
   "metadata": {},
   "source": [
    "On the left we can see the stations with the most number of customers. On the right we can see the sations with the most number of subscribers."
   ]
  },
  {
   "cell_type": "markdown",
   "metadata": {},
   "source": [
    "### Multi: Trip distance, duration & gender"
   ]
  },
  {
   "cell_type": "code",
   "execution_count": null,
   "metadata": {},
   "outputs": [],
   "source": [
    "dur_dist_user_plot = sns.jointplot(data=data[filtered_entries], \n",
    "                                   x=\"duration_min\", \n",
    "                                   y=\"distance_km\", \n",
    "                                   hue=\"gender\",\n",
    "                                   alpha=0.5, \n",
    "                                  )\n",
    "dur_dist_user_plot.set_axis_labels(\"Trip duration (min)\", \"Trip distance (km)\", labelpad=10)\n",
    "dur_dist_user_plot.fig.set_size_inches(10.5, 6.5)"
   ]
  },
  {
   "cell_type": "markdown",
   "metadata": {},
   "source": [
    "### Multi: Average trip distance per unique user, average duration per unique user & user type"
   ]
  },
  {
   "cell_type": "code",
   "execution_count": null,
   "metadata": {},
   "outputs": [],
   "source": [
    "user_dist_dura = data.groupby(['birth year',\n",
    "                               'gender',\n",
    "                               'usertype'], as_index=False).agg({'duration_min': mean,\n",
    "                                                                 'distance_km':mean})\n",
    "                # ^ this groups them by usertype,year id birth and gender\n",
    "                                                                 # ^ gets the mean for duration and distance_km for\n",
    "                                                                 # each groupped row that have the same values in birthyear, gender, and usertype\n",
    "user_dist_dura"
   ]
  },
  {
   "cell_type": "markdown",
   "metadata": {},
   "source": [
    "Assuming these are all taken in 2021 only, we won't be accounting for that. We will look now into the unique users by getting their birthyear, gender, and usertype since those do not change (unless they purchased a subscription after they first borrowed). However since the data did not have a unique user ID, it cannot be said confidently that these are indeed the same users.\n",
    "\n",
    "I also did not account for the start and end stations since the same user can easily rent a bike from any station and leave it at any station."
   ]
  },
  {
   "cell_type": "markdown",
   "metadata": {},
   "source": [
    "### Multi: Average trip distance per unique user, average duration per unique user, gender & user type"
   ]
  },
  {
   "cell_type": "code",
   "execution_count": null,
   "metadata": {},
   "outputs": [],
   "source": [
    "dis_dur_gender_usertype = data[[\"bikeid\", \"usertype\", \"gender\", \"duration_min\", \"distance_km\"]]\n",
    "dis_dur_gender_usertype"
   ]
  },
  {
   "cell_type": "code",
   "execution_count": null,
   "metadata": {},
   "outputs": [],
   "source": [
    "# Get z scores of the following variables\n",
    "z_scores = zscore(dis_dur_gender_usertype[[\"duration_min\", \"distance_km\"]]) \n",
    "\n",
    "# Get their absolute values for easy filtering\n",
    "abs_z_scores = np.abs(z_scores)\n",
    "\n",
    "# An array of boolean values with same length as the original dataset. \n",
    "# True if value is less than 3 standard deviations from the mean or not an outlier. Otherwise, False.\n",
    "filtered_rows = (abs_z_scores < 3).all(axis=1) \n",
    "\n",
    "# Array of boolean values where value is True if it is an outlier, otherwise False.\n",
    "dis_dur_gender_usertype_outliers = (abs_z_scores >= 3)\n",
    "dis_dur_gender_usertype[dis_dur_gender_usertype_outliers] # Show outlier values"
   ]
  },
  {
   "cell_type": "code",
   "execution_count": null,
   "metadata": {},
   "outputs": [],
   "source": [
    "dis_dur_gender_usertype = dis_dur_gender_usertype[filtered_rows]\n",
    "dis_dur_gender_usertype = dis_dur_gender_usertype.groupby(['bikeid', 'usertype', 'gender'], as_index=False)[['duration_min','distance_km']].mean()\n",
    "dis_dur_gender_usertype = dis_dur_gender_usertype.rename(columns={\"duration_min\": \"ave_duration_min\", \"distance_km\": \"ave_distance_km\"}, errors=\"raise\")\n",
    "dis_dur_gender_usertype"
   ]
  },
  {
   "cell_type": "code",
   "execution_count": null,
   "metadata": {},
   "outputs": [],
   "source": [
    "dis_dur_gender_usertype_plot = sns.FacetGrid(data = dis_dur_gender_usertype, col=\"gender\", hue=\"usertype\", palette=\"deep\")\n",
    "dis_dur_gender_usertype_plot.map(sns.scatterplot, \"ave_duration_min\", \"ave_distance_km\", alpha=0.5)\n",
    "dis_dur_gender_usertype_plot.add_legend()\n",
    "dis_dur_gender_usertype_plot.fig.set_size_inches(15.5,8)"
   ]
  },
  {
   "cell_type": "markdown",
   "metadata": {},
   "source": [
    "- Female users tends to travel longer\n",
    "- There's a lot more Subscriber with unknown gender that travel farther than Customer with unknown gender\n",
    "- There's a lot more Male Customer that travel farther than Male Subscriber"
   ]
  },
  {
   "cell_type": "code",
   "execution_count": null,
   "metadata": {},
   "outputs": [],
   "source": []
  }
 ],
 "metadata": {
  "kernelspec": {
   "display_name": "Python 3",
   "language": "python",
   "name": "python3"
  },
  "language_info": {
   "codemirror_mode": {
    "name": "ipython",
    "version": 3
   },
   "file_extension": ".py",
   "mimetype": "text/x-python",
   "name": "python",
   "nbconvert_exporter": "python",
   "pygments_lexer": "ipython3",
   "version": "3.8.5"
  }
 },
 "nbformat": 4,
 "nbformat_minor": 4
}
